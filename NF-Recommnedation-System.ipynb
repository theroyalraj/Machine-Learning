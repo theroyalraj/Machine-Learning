{
 "cells": [
  {
   "cell_type": "markdown",
   "metadata": {},
   "source": [
    " <center><h1> Netflix - Movie Recommendation</center>\n",
    "<img src=\"img\netflix.jpg">"
   ]
  },
  {
   "cell_type": "markdown",
   "metadata": {},
   "source": [
    "\n",
    "   <h3>Netflix:One of the biggest collection of Movies and TV shows</h3>\n",
    "   Netflix has been leading the way for digital content since 1997\n",
    "\n",
    "Netflix is the world's leading internet entertainment service with over 148 million paid memberships in over 190 countries enjoying TV series, documentaries and feature films across a wide variety of genres and languages. Members can watch as much as they want, anytime, anywhere, on any internet-connected screen. Members can play, pause and resume watching, all without commercials or commitments.\n",
    "\n",
    "We aim to build a recommendation system with netflix dataset(provided by netflix) to achive. The Dataset was too huge. It consisted of 4 text data files, each file contains over 20M rows, i.e. over 4K movies and 400K customers. Which makes it **over 17K movies** and **500K+ customers**! Altogether\n",
    "\n",
    "<br>\n",
    "One of the major challenges was to get all these data loaded into the Kernel for analysis, I have encountered many times of Kernel running out of memory and tried many different ways of how to do it more efficiently. Welcome any suggestions!!!"
   ]
  },
  {
   "cell_type": "markdown",
   "metadata": {},
   "source": [
    "## Table of Content:\n",
    "\n",
    "* Objective\n",
    "\n",
    "* Data manipulation\n",
    "    -  Data loading\n",
    "    -  Data visualization\n",
    "    -  Data slicing\n",
    "    -  Data mapping\n",
    "    \n",
    "* Recommendation models\n",
    "    -  Recommend with Collaborative Filtering (using surprise SVD package)\n",
    "    -  Recommend with Pearsons' R correlation"
   ]
  },
  {
   "cell_type": "markdown",
   "metadata": {},
   "source": [
    "# Objective\n",
    "<br>\n",
    "Learn from data and recommend best TV shows to users, based on self & others behaviour"
   ]
  },
  {
   "cell_type": "markdown",
   "metadata": {},
   "source": [
    "# Importing Libraries"
   ]
  },
  {
   "cell_type": "code",
   "execution_count": 7,
   "metadata": {},
   "outputs": [],
   "source": [
    "import numpy as np\n",
    "import pandas as pd"
   ]
  },
  {
   "cell_type": "code",
   "execution_count": 8,
   "metadata": {},
   "outputs": [],
   "source": [
    "dataset=pd.read_csv(r\"C:\\Users\\Raj\\Desktop\\NF Dataset\\Machine-Learning\\combined_data_1.txt\",names = ['Cust_Id', 'Rating'])"
   ]
  },
  {
   "cell_type": "markdown",
   "metadata": {},
   "source": [
    "The shape shows the size of the dataset i.e 2.4 crore rows(Which is too huge)"
   ]
  },
  {
   "cell_type": "code",
   "execution_count": 9,
   "metadata": {},
   "outputs": [
    {
     "data": {
      "text/plain": [
       "(24058263, 2)"
      ]
     },
     "execution_count": 9,
     "metadata": {},
     "output_type": "execute_result"
    }
   ],
   "source": [
    "dataset.shape"
   ]
  },
  {
   "cell_type": "markdown",
   "metadata": {},
   "source": [
    "### df is used to concat with all dataset(Here only one out of 4 is used)"
   ]
  },
  {
   "cell_type": "code",
   "execution_count": 10,
   "metadata": {},
   "outputs": [
    {
     "data": {
      "text/plain": [
       "(24058263, 2)"
      ]
     },
     "execution_count": 10,
     "metadata": {},
     "output_type": "execute_result"
    }
   ],
   "source": [
    "df=dataset\n",
    "df.shape\n",
    "'''To reduce the df size uncomment the below line'''\n",
    "#df=dataset[:5000000]\n",
    "\n",
    "#dataset2 = pd.read_csv('../input/combined_data_2.txt',names = ['Cust_Id', 'Rating'])\n",
    "#dataset3 = pd.read_csv('../input/combined_data_3.txt', names = ['Cust_Id', 'Rating'])\n",
    "#dataset4 = pd.read_csv('../input/combined_data_4.txt', names = ['Cust_Id', 'Rating'])\n"
   ]
  },
  {
   "cell_type": "markdown",
   "metadata": {},
   "source": [
    "<h2>About Dataset</h2><br>\n",
    "    Each data file (there are 4 of them) contains below columns:\n",
    "\n",
    "* Movie ID (as first line of each new movie record / file)\n",
    "* Customer ID\n",
    "* Rating (1 to 5)\n",
    "* Date they gave the ratings\n",
    "\n",
    "There is another file contains the mapping of Movie ID to the movie background like name, year of release, etc"
   ]
  },
  {
   "cell_type": "code",
   "execution_count": 11,
   "metadata": {},
   "outputs": [],
   "source": [
    "#df2['Rating'] = df2['Rating'].astype(float)\n",
    "#df3['Rating'] = df3['Rating'].astype(float)\n",
    "#df4['Rating'] = df4['Rating'].astype(float)\n",
    "\n",
    "#df = df1.append(dataset2)\n",
    "#df = df.append(dataset3)\n",
    "#df = df.append(dataset4)\n"
   ]
  },
  {
   "cell_type": "markdown",
   "metadata": {},
   "source": [
    "<h2>Manupulating DataSet</h2>\n",
    "<h4>creating a new column of movie id for each customer rating"
   ]
  },
  {
   "cell_type": "code",
   "execution_count": 12,
   "metadata": {},
   "outputs": [
    {
     "name": "stdout",
     "output_type": "stream",
     "text": [
      "[1.000e+00 1.000e+00 1.000e+00 ... 4.499e+03 4.499e+03 4.499e+03]\n",
      "Movie numpy: [1.000e+00 1.000e+00 1.000e+00 ... 4.499e+03 4.499e+03 4.499e+03]\n",
      "Length: 24053764\n"
     ]
    }
   ],
   "source": [
    "arr=np.array(df.iloc[:,1])\n",
    "x=np.argwhere(np.isnan(arr))\n",
    "movie_np = []\n",
    "movie_id = 1\n",
    "\n",
    "for i in range(len(x)-1):\n",
    "    temp = np.full((1,int(x[i+1]-x[i]-1)), movie_id)\n",
    "    movie_np = np.append(movie_np, temp)\n",
    "    movie_id+=1\n",
    "    \n",
    "last_record = np.full((1,len(df) - int(x[i+1]) - 1),movie_id)\n",
    "movie_np = np.append(movie_np, last_record)\n",
    "print(movie_np)\n",
    "print('Movie numpy: {}'.format(movie_np))\n",
    "print('Length: {}'.format(len(movie_np)))"
   ]
  },
  {
   "cell_type": "markdown",
   "metadata": {},
   "source": [
    "### Merging the Dataset"
   ]
  },
  {
   "cell_type": "code",
   "execution_count": 13,
   "metadata": {},
   "outputs": [],
   "source": [
    "df = df[pd.notnull(df['Rating'])]"
   ]
  },
  {
   "cell_type": "code",
   "execution_count": 14,
   "metadata": {},
   "outputs": [
    {
     "name": "stderr",
     "output_type": "stream",
     "text": [
      "C:\\Users\\Raj\\Anaconda3_1\\lib\\site-packages\\ipykernel_launcher.py:1: SettingWithCopyWarning: \n",
      "A value is trying to be set on a copy of a slice from a DataFrame.\n",
      "Try using .loc[row_indexer,col_indexer] = value instead\n",
      "\n",
      "See the caveats in the documentation: http://pandas.pydata.org/pandas-docs/stable/indexing.html#indexing-view-versus-copy\n",
      "  \"\"\"Entry point for launching an IPython kernel.\n"
     ]
    }
   ],
   "source": [
    "df['Movie_Id'] = movie_np.astype(int)"
   ]
  },
  {
   "cell_type": "code",
   "execution_count": 15,
   "metadata": {},
   "outputs": [
    {
     "name": "stdout",
     "output_type": "stream",
     "text": [
      "-Dataset examples-\n",
      "   Cust_Id  Rating  Movie_Id\n",
      "1  1488844     3.0         1\n",
      "2   822109     5.0         1\n",
      "3   885013     4.0         1\n",
      "4    30878     4.0         1\n",
      "5   823519     3.0         1\n",
      "(24053764, 3)\n"
     ]
    },
    {
     "name": "stderr",
     "output_type": "stream",
     "text": [
      "C:\\Users\\Raj\\Anaconda3_1\\lib\\site-packages\\ipykernel_launcher.py:1: SettingWithCopyWarning: \n",
      "A value is trying to be set on a copy of a slice from a DataFrame.\n",
      "Try using .loc[row_indexer,col_indexer] = value instead\n",
      "\n",
      "See the caveats in the documentation: http://pandas.pydata.org/pandas-docs/stable/indexing.html#indexing-view-versus-copy\n",
      "  \"\"\"Entry point for launching an IPython kernel.\n"
     ]
    }
   ],
   "source": [
    "df['Cust_Id'] = df['Cust_Id'].astype(int)\n",
    "print('-Dataset examples-')\n",
    "print(df.head())\n",
    "print(df.shape)"
   ]
  },
  {
   "cell_type": "markdown",
   "metadata": {},
   "source": [
    "# Data Visualization"
   ]
  },
  {
   "cell_type": "code",
   "execution_count": 16,
   "metadata": {},
   "outputs": [],
   "source": [
    "import matplotlib.pyplot as pyp\n",
    "import seaborn as sns\n",
    "sns.set_style('white')\n",
    "%matplotlib inline"
   ]
  },
  {
   "cell_type": "code",
   "execution_count": 17,
   "metadata": {},
   "outputs": [
    {
     "data": {
      "text/html": [
       "<div>\n",
       "<style scoped>\n",
       "    .dataframe tbody tr th:only-of-type {\n",
       "        vertical-align: middle;\n",
       "    }\n",
       "\n",
       "    .dataframe tbody tr th {\n",
       "        vertical-align: top;\n",
       "    }\n",
       "\n",
       "    .dataframe thead th {\n",
       "        text-align: right;\n",
       "    }\n",
       "</style>\n",
       "<table border=\"1\" class=\"dataframe\">\n",
       "  <thead>\n",
       "    <tr style=\"text-align: right;\">\n",
       "      <th></th>\n",
       "      <th>Rating</th>\n",
       "    </tr>\n",
       "    <tr>\n",
       "      <th>Movie_Id</th>\n",
       "      <th></th>\n",
       "    </tr>\n",
       "  </thead>\n",
       "  <tbody>\n",
       "    <tr>\n",
       "      <th>1</th>\n",
       "      <td>3.749543</td>\n",
       "    </tr>\n",
       "    <tr>\n",
       "      <th>2</th>\n",
       "      <td>3.558621</td>\n",
       "    </tr>\n",
       "    <tr>\n",
       "      <th>3</th>\n",
       "      <td>3.641153</td>\n",
       "    </tr>\n",
       "    <tr>\n",
       "      <th>4</th>\n",
       "      <td>2.739437</td>\n",
       "    </tr>\n",
       "    <tr>\n",
       "      <th>5</th>\n",
       "      <td>3.919298</td>\n",
       "    </tr>\n",
       "  </tbody>\n",
       "</table>\n",
       "</div>"
      ],
      "text/plain": [
       "            Rating\n",
       "Movie_Id          \n",
       "1         3.749543\n",
       "2         3.558621\n",
       "3         3.641153\n",
       "4         2.739437\n",
       "5         3.919298"
      ]
     },
     "execution_count": 17,
     "metadata": {},
     "output_type": "execute_result"
    }
   ],
   "source": [
    "ratings = pd.DataFrame(df.groupby('Movie_Id')['Rating'].mean())\n",
    "ratings.head()"
   ]
  },
  {
   "cell_type": "code",
   "execution_count": 18,
   "metadata": {},
   "outputs": [
    {
     "data": {
      "text/html": [
       "<div>\n",
       "<style scoped>\n",
       "    .dataframe tbody tr th:only-of-type {\n",
       "        vertical-align: middle;\n",
       "    }\n",
       "\n",
       "    .dataframe tbody tr th {\n",
       "        vertical-align: top;\n",
       "    }\n",
       "\n",
       "    .dataframe thead th {\n",
       "        text-align: right;\n",
       "    }\n",
       "</style>\n",
       "<table border=\"1\" class=\"dataframe\">\n",
       "  <thead>\n",
       "    <tr style=\"text-align: right;\">\n",
       "      <th></th>\n",
       "      <th>Rating</th>\n",
       "      <th>num of ratings</th>\n",
       "    </tr>\n",
       "    <tr>\n",
       "      <th>Movie_Id</th>\n",
       "      <th></th>\n",
       "      <th></th>\n",
       "    </tr>\n",
       "  </thead>\n",
       "  <tbody>\n",
       "    <tr>\n",
       "      <th>1</th>\n",
       "      <td>3.749543</td>\n",
       "      <td>547</td>\n",
       "    </tr>\n",
       "    <tr>\n",
       "      <th>2</th>\n",
       "      <td>3.558621</td>\n",
       "      <td>145</td>\n",
       "    </tr>\n",
       "    <tr>\n",
       "      <th>3</th>\n",
       "      <td>3.641153</td>\n",
       "      <td>2012</td>\n",
       "    </tr>\n",
       "    <tr>\n",
       "      <th>4</th>\n",
       "      <td>2.739437</td>\n",
       "      <td>142</td>\n",
       "    </tr>\n",
       "    <tr>\n",
       "      <th>5</th>\n",
       "      <td>3.919298</td>\n",
       "      <td>1140</td>\n",
       "    </tr>\n",
       "  </tbody>\n",
       "</table>\n",
       "</div>"
      ],
      "text/plain": [
       "            Rating  num of ratings\n",
       "Movie_Id                          \n",
       "1         3.749543             547\n",
       "2         3.558621             145\n",
       "3         3.641153            2012\n",
       "4         2.739437             142\n",
       "5         3.919298            1140"
      ]
     },
     "execution_count": 18,
     "metadata": {},
     "output_type": "execute_result"
    }
   ],
   "source": [
    "ratings['num of ratings'] = pd.DataFrame(df.groupby('Movie_Id')['Rating'].count())\n",
    "ratings.head()"
   ]
  },
  {
   "cell_type": "code",
   "execution_count": 19,
   "metadata": {},
   "outputs": [
    {
     "data": {
      "text/html": [
       "<div>\n",
       "<style scoped>\n",
       "    .dataframe tbody tr th:only-of-type {\n",
       "        vertical-align: middle;\n",
       "    }\n",
       "\n",
       "    .dataframe tbody tr th {\n",
       "        vertical-align: top;\n",
       "    }\n",
       "\n",
       "    .dataframe thead th {\n",
       "        text-align: right;\n",
       "    }\n",
       "</style>\n",
       "<table border=\"1\" class=\"dataframe\">\n",
       "  <thead>\n",
       "    <tr style=\"text-align: right;\">\n",
       "      <th></th>\n",
       "      <th>Rating</th>\n",
       "      <th>num of ratings</th>\n",
       "    </tr>\n",
       "    <tr>\n",
       "      <th>Movie_Id</th>\n",
       "      <th></th>\n",
       "      <th></th>\n",
       "    </tr>\n",
       "  </thead>\n",
       "  <tbody>\n",
       "    <tr>\n",
       "      <th>1905</th>\n",
       "      <td>4.153908</td>\n",
       "      <td>193941</td>\n",
       "    </tr>\n",
       "    <tr>\n",
       "      <th>2152</th>\n",
       "      <td>3.425322</td>\n",
       "      <td>162597</td>\n",
       "    </tr>\n",
       "    <tr>\n",
       "      <th>3860</th>\n",
       "      <td>3.434517</td>\n",
       "      <td>160454</td>\n",
       "    </tr>\n",
       "    <tr>\n",
       "      <th>4432</th>\n",
       "      <td>3.755364</td>\n",
       "      <td>156183</td>\n",
       "    </tr>\n",
       "    <tr>\n",
       "      <th>571</th>\n",
       "      <td>3.962585</td>\n",
       "      <td>154832</td>\n",
       "    </tr>\n",
       "    <tr>\n",
       "      <th>3938</th>\n",
       "      <td>4.144543</td>\n",
       "      <td>153996</td>\n",
       "    </tr>\n",
       "    <tr>\n",
       "      <th>4306</th>\n",
       "      <td>4.325245</td>\n",
       "      <td>151292</td>\n",
       "    </tr>\n",
       "    <tr>\n",
       "      <th>2452</th>\n",
       "      <td>4.434708</td>\n",
       "      <td>149866</td>\n",
       "    </tr>\n",
       "    <tr>\n",
       "      <th>1962</th>\n",
       "      <td>3.750569</td>\n",
       "      <td>145519</td>\n",
       "    </tr>\n",
       "    <tr>\n",
       "      <th>3962</th>\n",
       "      <td>4.415523</td>\n",
       "      <td>140979</td>\n",
       "    </tr>\n",
       "  </tbody>\n",
       "</table>\n",
       "</div>"
      ],
      "text/plain": [
       "            Rating  num of ratings\n",
       "Movie_Id                          \n",
       "1905      4.153908          193941\n",
       "2152      3.425322          162597\n",
       "3860      3.434517          160454\n",
       "4432      3.755364          156183\n",
       "571       3.962585          154832\n",
       "3938      4.144543          153996\n",
       "4306      4.325245          151292\n",
       "2452      4.434708          149866\n",
       "1962      3.750569          145519\n",
       "3962      4.415523          140979"
      ]
     },
     "execution_count": 19,
     "metadata": {},
     "output_type": "execute_result"
    }
   ],
   "source": [
    "ratings.sort_values('num of ratings',ascending=False).head(10)"
   ]
  },
  {
   "cell_type": "code",
   "execution_count": 20,
   "metadata": {},
   "outputs": [
    {
     "data": {
      "text/plain": [
       "<matplotlib.axes._subplots.AxesSubplot at 0x1f985026860>"
      ]
     },
     "execution_count": 20,
     "metadata": {},
     "output_type": "execute_result"
    },
    {
     "data": {
      "image/png": "iVBORw0KGgoAAAANSUhEUgAAAmAAAAD7CAYAAADNVSh5AAAABHNCSVQICAgIfAhkiAAAAAlwSFlzAAALEgAACxIB0t1+/AAAADl0RVh0U29mdHdhcmUAbWF0cGxvdGxpYiB2ZXJzaW9uIDMuMC4zLCBodHRwOi8vbWF0cGxvdGxpYi5vcmcvnQurowAAF1BJREFUeJzt3X+Q3Xdd7/HnbtNtQNOA11zUQslI9e3OVfGmSmpJm8y0EmNkAshghilqO1jRyG20I8WSkjB25ooXotAW0JQSrpeOhbQRCxMbf2AIsSXeGudaPPcdaMX4CzSdSRNalyXJ+sf3e+B0OXvO7mbPJ+fseT5mMnPO5/v+7vl+3vvNd1/7/X7P2ZGpqSkkSZJUzuj53gBJkqRhYwCTJEkqzAAmSZJUmAFMkiSpMAOYJElSYQYwSZKkwgxgkiRJhRnAJEmSCjOASZIkFbbkfG/AdKtXr5665JJLev46k5OTjI2N9fx1+pk9sAdN9sEeNNkHewD2oGk2ffjc5z53PDNXzPVr910Au+SSS3jggQd6/jqNRoPx8fGev04/swf2oMk+2IMm+2APwB40zaYPEfEP8/naXoKUJEkqrOsZsIi4ANgFBHAGuB5YDjwIfL4ue39m3hcR24GNwGlga2YejojLgN3AFPAYsCUzzy70RCRJkgbFbM6AvRIgM18OvB3YCawCdmbmuvrffRGxClgLrAY2A3fV6+8EtmXmVcAIsGmB5yBJkjRQup4By8w/jIhP1E9fDHwZuByIiNhEdRZsK7AG2J+ZU8CxiFgSESvq2gP1+vuAVwB7F3YakiRJg2NWN+Fn5umI+DDwauC1wCXA3Zn5aES8DdgOnACebFntFNWlypE6lLWOzWhycpJGozG3WczDxMREkdfpZ/bAHjTZB3vQZB/sAdiDpl72YdbvgszMn42IW4DPAldm5j/Xi/YCdwAfB5a1rLKMKpSdbTM2o7GxsSLvvPAdHvYA7EGTfbAHTfbBHoA9aOplH7reAxYRb4iIX6+fPkMVqB6IiJfVY9cAjwKHgPURMRoRlwKjmXkcOBIR6+raDcDBhZyAJEnSoJnNGbAHgA9FxKeBC6nu9/pH4M6ImAS+BNyYmScj4iDwMFWw21KvfzOwKyLGgAawZ4HnIEmSNFBmcxP+08Dr2iy6sk3tDmDHtLGjVO+OlCRJEkP8QayXrvzuGZdNfO1MwS2RJEnDpu/+FFEp3/Kci1j51k+2XfbF39xYeGskSdIwGdozYJIkSeeLAUySJKkwA5gkSVJhBjBJkqTCDGCSJEmFGcAkSZIKM4BJkiQVZgCTJEkqzAAmSZJUmAFMkiSpMAOYJElSYQYwSZKkwgxgkiRJhRnAJEmSCjOASZIkFWYAkyRJKswAJkmSVJgBTJIkqTADmCRJUmEGMEmSpMKWdCuIiAuAXUAAZ4DrgRFgNzAFPAZsycyzEbEd2AicBrZm5uGIuKxd7cJPRZIkaTDM5gzYKwEy8+XA24Gd9b9tmXkVVRjbFBGrgLXAamAzcFe9/jfVLugMJEmSBkzXAJaZfwjcWD99MfBl4HLgQD22D7gWWAPsz8ypzDwGLImIFTPUSpIkDa2ulyABMvN0RHwYeDXwWuAnM3OqXnwKWA5cDDzZslpzfKRN7YwmJydpNBqzn8E8jY+Pd1xeYhvOt4mJiaGYZyf2oGIf7EGTfbAHYA+aetmHWQUwgMz82Yi4Bfgs8JyWRcuAE8DJ+vH08bNtxmY0NjbWNRyV0A/b0GuNRmMo5tmJPajYB3vQZB/sAdiDpl72oeslyIh4Q0T8ev30GapA9X8jYl09tgE4CBwC1kfEaERcCoxm5nHgSJtaSZKkoTWbM2APAB+KiE8DFwJbgQawKyLG6sd7MvNMRBwEHqYKdlvq9W+eXrvAc5AkSRooXQNYZj4NvK7NorVtancAO6aNHW1XK0mSNKz8IFZJkqTCDGCSJEmFGcAkSZIKM4BJkiQVZgCTJEkqzAAmSZJUmAFMkiSpMAOYJElSYQYwSZKkwgxgkiRJhRnAJEmSCjOASZIkFWYAkyRJKswAJkmSVJgBTJIkqTADmCRJUmEGMEmSpMIMYJIkSYUZwCRJkgozgEmSJBVmAJMkSSrMACZJklTYkk4LI+JC4B5gJXARcDvwT8CDwOfrsvdn5n0RsR3YCJwGtmbm4Yi4DNgNTAGPAVsy82wP5iFJkjQwup0Buw54MjOvAjYAdwKrgJ2Zua7+d19ErALWAquBzcBd9fo7gW31+iPApl5MQpIkaZB0PAMGfAzY0/L8NHA5EBGxieos2FZgDbA/M6eAYxGxJCJW1LUH6nX3Aa8A9i7g9kuSJA2cjmfAMvMrmXkqIpZRBbFtwGHg1zLzauAJYDtwMfBUy6qngOXASB3KWsckSZKGWrczYETEi6jOWr0vM++NiOdl5ol68V7gDuDjwLKW1ZYBJ4CzbcY6mpycpNFozHLz5298fLzj8hLbcL5NTEwMxTw7sQcV+2APmuyDPQB70NTLPnS7Cf8FwH7glzPzz+rhhyLizZl5GLgGeBQ4BPxWRLwLeCEwmpnHI+JIRKzLzL+guofsU902aGxsrGs4KqEftqHXGo3GUMyzE3tQsQ/2oMk+2AOwB0297EO3M2C3As8HbouI2+qxXwV+JyImgS8BN2bmyYg4CDxMdVlzS117M7ArIsaABs++n0ySJGkodQxgmXkTcFObRVe2qd0B7Jg2dpTq3ZGSJEmq+UGskiRJhRnAJEmSCjOASZIkFWYAkyRJKswAJkmSVJgBTJIkqTADmCRJUmEGMEmSpMIMYJIkSYUZwCRJkgozgEmSJBVmAJMkSSrMACZJklSYAUySJKkwA5gkSVJhBjBJkqTCDGCSJEmFGcAkSZIKM4BJkiQVZgCTJEkqzAAmSZJUmAFMkiSpMAOYJElSYUs6LYyIC4F7gJXARcDtwN8Bu4Ep4DFgS2aejYjtwEbgNLA1Mw9HxGXtansyE0mSpAHR7QzYdcCTmXkVsAG4E9gJbKvHRoBNEbEKWAusBjYDd9Xrf1Ptwk9BkiRpsHQLYB8Dbmt5fhq4HDhQP98HXAusAfZn5lRmHgOWRMSKGWolSZKGWsdLkJn5FYCIWAbsAbYB78rMqbrkFLAcuBh4smXV5vhIm9qOJicnaTQac5nDvIyPj3dcXmIbzreJiYmhmGcn9qBiH+xBk32wB2APmnrZh44BDCAiXgTsBd6XmfdGxG+1LF4GnABO1o+nj59tM9bR2NhY13BUQj9sQ681Go2hmGcn9qBiH+xBk32wB2APmnrZh46XICPiBcB+4JbMvKcePhIR6+rHG4CDwCFgfUSMRsSlwGhmHp+hVpIkaah1OwN2K/B84LaIaN4LdhPw3ogYAxrAnsw8ExEHgYepQt2WuvZmYFdr7UJPQJIkadB0uwfsJqrANd3aNrU7gB3Txo62q5UkSRpmfhCrJElSYQYwSZKkwgxgkiRJhRnAJEmSCjOASZIkFWYAkyRJKswAJkmSVJgBTJIkqTADmCRJUmEGMEmSpMIMYJIkSYUZwCRJkgozgEmSJBVmAJMkSSrMACZJklSYAUySJKkwA5gkSVJhBjBJkqTCDGCSJEmFGcAkSZIKM4BJkiQVZgCTJEkqbMlsiiJiNfDOzFwXEauAB4HP14vfn5n3RcR2YCNwGtiamYcj4jJgNzAFPAZsycyzCz0JSZKkQdI1gEXEW4A3AE/XQ6uAnZn57paaVcBaYDXwIuB+4EeAncC2zPyLiPgAsAnYu6AzkCRJGjCzOQP2OPAa4Pfr55cDERGbqM6CbQXWAPszcwo4FhFLImJFXXugXm8f8AoMYJIkach1DWCZeX9ErGwZOgzcnZmPRsTbgO3ACeDJlppTwHJgpA5lrWMdTU5O0mg0Zrn58zc+Pt5xeYltON8mJiaGYp6d2IOKfbAHTfbBHoA9aOplH2Z1D9g0ezPzRPMxcAfwcWBZS80yqlB2ts1YR2NjY13DUQn9sA291mg0hmKendiDin2wB032wR6APWjqZR/m8y7IhyLiZfXja4BHgUPA+ogYjYhLgdHMPA4ciYh1de0G4OC5brAkSdKgm88ZsF8E7oyISeBLwI2ZeTIiDgIPU4W6LXXtzcCuiBgDGsCeBdhmSZKkgTarAJaZXwSuqB//NXBlm5odwI5pY0ep3h0pSZKkmh/EKkmSVJgBTJIkqTADmCRJUmEGMEmSpMIMYJIkSYUZwCRJkgozgEmSJBVmAJMkSSrMACZJklSYAUySJKkwA5gkSVJhBjBJkqTCDGCSJEmFGcAkSZIKM4BJkiQVZgCTJEkqzAAmSZJUmAFMkiSpMAOYJElSYQYwSZKkwgxgkiRJhRnAJEmSClsym6KIWA28MzPXRcRlwG5gCngM2JKZZyNiO7AROA1szczDM9Uu/DQkSZIGR9czYBHxFuBuYGk9tBPYlplXASPApohYBawFVgObgbtmql3YzZckSRo8s7kE+TjwmpbnlwMH6sf7gGuBNcD+zJzKzGPAkohYMUOtJEnSUOt6CTIz74+IlS1DI5k5VT8+BSwHLgaebKlpjrer7WhycpJGozGLTT834+PjHZeX2IbzbWJiYijm2Yk9qNgHe9BkH+wB2IOmXvZhVveATdN6D9cy4ARwsn48fbxdbUdjY2Ndw1EJ/bANvdZoNIZinp3Yg4p9sAdN9sEegD1o6mUf5vMuyCMRsa5+vAE4CBwC1kfEaERcCoxm5vEZaiVJkobafM6A3QzsiogxoAHsycwzEXEQeJgq1G2ZqXYBtlmSJGmgzSqAZeYXgSvqx0ep3vE4vWYHsGPaWNtaSZKkYeYHsUqSJBVmAJMkSSrMACZJklSYAUySJKkwA5gkSVJhBjBJkqTCDGCSJEmFGcAkSZIKM4BJkiQVZgCTJEkqzAAmSZJUmAFMkiSpMAOYJElSYQYwSZKkwgxgkiRJhRnAJEmSCjOASZIkFWYAkyRJKswAJkmSVJgBTJIkqTADmCRJUmEGMEmSpMKWzHfFiDgCPFU//Xvgd4H3AKeB/Zn5jogYBd4HvBT4KvDGzPzCuW2yJEnSYJtXAIuIpQCZua5l7G+AnwKeAD4ZEauAlcDSzPzRiLgCeDew6Ry3WZIkaaDN9wzYS4HnRsT++mvsAC7KzMcBIuIh4BrgO4E/BsjMRyLih895iyVJkgbcfO8BewZ4F7AeeBPwoXqs6RSwHLiYb1ymBDgTEfO+7ClJkrQYzDcMHQW+kJlTwNGIeAr4tpbly4ATwHPrx02jmXm60xeenJyk0WjMc7Nmb3x8vOPyEttwvk1MTAzFPDuxBxX7YA+a7IM9AHvQ1Ms+zDeA3QD8APBLEfFdVEHr6Yh4CdU9YOuBdwAvBF4JfLS+B+xvu33hsbGxruGohH7Yhl5rNBpDMc9O7EHFPtiDJvtgD8AeNPWyD/MNYB8EdkfEZ4ApqkB2FvgIcAHVuyA/GxF/BfxYRPwlMAJcvwDbLEmSNNDmFcAycxJ4fZtFV0yrO0t1j5gkSZJqfhCrJElSYQYwSZKkwgxgkiRJhRnAJEmSCjOASZIkFWYAa2Pia2fmtUySJGk2/LNAbSy98AJWvvWTbZd98Tc3Ft4aSZK02HgGTJIkqTADmCRJUmEGMEmSpMIMYJIkSYUZwCRJkgozgEmSJBVmAJMkSSrMACZJklSYAUySJKkwA9gc+WeKJEnSufJPEc2Rf6ZIkiSdK8+ASZIkFWYAkyRJKswAtoC63QPmPWKSJAm8B2xBdbo/DLxHTJIkVTwDVpDvoJQkSVDgDFhEjALvA14KfBV4Y2Z+odev2486nSH7/7/x4zOuN/G1Myy98II5L5vNckmSVF6JS5CvApZm5o9GxBXAu4FNBV53oHT7eIv5LIPOwW7lS75nxmUGN0mSeqdEAFsD/DFAZj4SET9c4DVVm2+wm+8ZuW7Le7HsXNY9lxB6PuY5X91ec3x8fN7rno/t9ZcDSYNuZGpqqqcvEBF3A/dn5r76+THguzPz9Az1/w78Q083SpIkaWG8ODNXzHWlEmfATgLLWp6PzhS+AOYzCUmSpEFS4l2Qh4CfAKjvAfvbAq8pSZLUt0qcAdsL/FhE/CUwAlxf4DUlSZL6Vs/vAZMkSdKz+UGskiRJhRnAJEmSChuqvwW5WD+VPyIuBO4BVgIXAbcD/wQ8CHy+Lnt/Zt4XEduBjcBpYGtmHo6Iy4DdwBTwGLAlM8+2qy03q/mJiCPAU/XTvwd+F3gP1Rz2Z+Y7ZtoP6jeJzKq26KTmKCJ+Dvi5+ulS4IeA1wP/C/jHenw7cJBF2IeIWA28MzPXzWXfXojakvPsZFoPfgi4AzhD9b37mcz8ckS8F3g5cKpebRNwIXAv8BzgX4DrM/OZiPh54BeoenB7Zn4iIr69XW25WXY3rQ+r6MExccD2hT8AvqNetBJ4JDM3R8QfAf8F+BrwH5m5YbH0YIafj39HHxwXhu0M2Nc/lR94K9Wn8i8G1wFPZuZVwAbgTmAVsDMz19X/7qsPQGuB1cBm4K56/Z3Atnr9EWBTh9q+FRFLAVrmfD3wAarwsQZYXc9rpv1gLrV9KzN3N3sAPAr8D6r94S0tvTnAIuxDRLwFuJsqeMLc9u1zqu313GarTQ/eA7y53h8eAG6px1cB61v2iaeAtwP31vM6AvxCRHwH1T70cmA98D8j4qJ2tUUmOEtt+tCrY+LA7AuZubneD14NnAB+pS69DFhT92VDPbYoekD7n499cVwYtgD2rE/lBxbLp/J/DLit5flp4HJgY0R8OiI+GBHLqOa/PzOnMvMYsCQiVtS1B+p19wHXdqjtZy8FnhsR+yPizyPiauCizHw8M6eAh4BraLMfRMTFs60tPqt5qv/qxH/LzN+j+h7fEBEHI+LdEbGExdmHx4HXtDyfy759rrX9YnoPNmfm39SPlwAT9RnN7wF+LyIORcQN9fKvf5/5xrxeBhzKzK/WIe0LwA/OUNtP2u0LvTgmDtK+0PQO4I7M/NeIeAHwPODBiPhMRPxkXbNYejDTz8fzflwYtgB2Md+4PAVwpv5BNNAy8yuZeao+oOwBtgGHgV/LzKuBJ6guOU2f/ylgOTBS/7BtHZuptp89A7yL6rf0NwEfqseaZprbmXrs5GxqB2ifuZXqQAvwJ8CbgauBb6Xqz6LrQ2beT3UZpWku+/a51vaF6T3IzH8FiIgrgV8Gfhv4FqrLktcBPw78UkT8IM+eb7cetKvtG232hV4dEwdmXwCIiP9K9UvV7npojOqM9quowtpv1zWLpQftfj72xXFh2ALYnD6Vf5BExIuATwG/n5n3Ansz89F68V7gv/PN819GdRr6bJuxmWr72VHg/9S/lRyl+g/ybS3LZ5rbaJuxGWsHYZ+JiOcB35eZn6qH7snMJ+qDw8dpvz8suj4wt337XGv7VkT8NNWl5Y2Z+e9Uv5i8JzOfycxTwJ9TnUFunW+3HrSr7We9OiYO1L4AvJbq0vGZ+vmXgA9k5unM/Deqy8nBIupBm5+PfXFcGLYAtig/lb8+hbwfuCUz76mHH4qIl9WPr6G6F+gQsD4iRiPiUqofoseBIxGxrq7dQHVz9ky1/ewG6nuTIuK7gOcCT0fESyJihOrMWHNuz9oPMvMkMDmb2rJTmrergT8FqOfz/yLihfWy1v1hsfdhLvv2udb2pYi4jurM17rMfKIe/l7gMxFxQX2T8hrgr2n5PvONeR0GroqIpRGxHBinusG4XW0/69UxcWD2hdq1VJfHWp9/FCAivhX4fqDBIunBDD8f++K40HeXEHpssX4q/63A84HbIqJ5rftXgd+JiEmq33BuzMyTEXEQeJgqfG+pa28GdkXEGNV/vD2ZeWaG2n72QWB3RHyG6l0oN1D9RvIR4AKqa/afjYi/ov1+8KY51Pa7oLrMQmZORcQbgQci4j+o3gG0i+qS42Lvw1z27XOqLTajOYiIC4D3Aseovv8ABzJze0R8BHiE6hLV/87Mz0XE7cCHo3rX43Hg9Zn5dFTvmDxI1YO3ZeZEu9riE5ybXwTu7MExcSD2hRZfPzYAZOa+iFgfEY9QHS9vzczjEbFYetDu5+NNwHvP93HBT8KXJEkqbNguQUqSJJ13BjBJkqTCDGCSJEmFGcAkSZIKM4BJkiQVZgCTJEkqzAAmSZJUmAFMkiSpsP8EVRs/POL3JggAAAAASUVORK5CYII=\n",
      "text/plain": [
       "<Figure size 720x288 with 1 Axes>"
      ]
     },
     "metadata": {
      "needs_background": "light"
     },
     "output_type": "display_data"
    }
   ],
   "source": [
    "pyp.figure(figsize=(10,4))\n",
    "ratings['num of ratings'].hist(bins=70)"
   ]
  },
  {
   "cell_type": "code",
   "execution_count": 21,
   "metadata": {},
   "outputs": [
    {
     "data": {
      "text/plain": [
       "<matplotlib.axes._subplots.AxesSubplot at 0x1f9851a27b8>"
      ]
     },
     "execution_count": 21,
     "metadata": {},
     "output_type": "execute_result"
    },
    {
     "data": {
      "image/png": "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\n",
      "text/plain": [
       "<Figure size 720x288 with 1 Axes>"
      ]
     },
     "metadata": {
      "needs_background": "light"
     },
     "output_type": "display_data"
    }
   ],
   "source": [
    "pyp.figure(figsize=(10,4))\n",
    "ratings['Rating'].hist(bins=70)"
   ]
  },
  {
   "cell_type": "code",
   "execution_count": 22,
   "metadata": {},
   "outputs": [
    {
     "data": {
      "text/plain": [
       "<seaborn.axisgrid.JointGrid at 0x1f98527ac88>"
      ]
     },
     "execution_count": 22,
     "metadata": {},
     "output_type": "execute_result"
    },
    {
     "data": {
      "image/png": "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\n",
      "text/plain": [
       "<Figure size 432x432 with 3 Axes>"
      ]
     },
     "metadata": {
      "needs_background": "light"
     },
     "output_type": "display_data"
    }
   ],
   "source": [
    "sns.jointplot(x='Rating',y='num of ratings',data=ratings,alpha=0.5)"
   ]
  },
  {
   "cell_type": "code",
   "execution_count": null,
   "metadata": {},
   "outputs": [],
   "source": []
  },
  {
   "cell_type": "code",
   "execution_count": 23,
   "metadata": {},
   "outputs": [
    {
     "data": {
      "image/png": "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\n",
      "text/plain": [
       "<Figure size 1080x720 with 1 Axes>"
      ]
     },
     "metadata": {
      "needs_background": "light"
     },
     "output_type": "display_data"
    }
   ],
   "source": [
    "p = df.groupby('Rating')['Rating'].agg(['count'])\n",
    "\n",
    "# get movie count\n",
    "movie_count = df.iloc[-1,-1]\n",
    "\n",
    "# get customer count\n",
    "cust_count = df['Cust_Id'].nunique() - movie_count\n",
    "\n",
    "# get rating count\n",
    "rating_count = df['Cust_Id'].count() - movie_count\n",
    "\n",
    "ax = p.plot(kind = 'barh', legend = False, figsize = (15,10))\n",
    "pyp.title('Total pool: {:,} Movies, {:,} customers, {:,} ratings given'.format(movie_count, cust_count, rating_count), fontsize=20)\n",
    "pyp.axis('off')\n",
    "\n",
    "for i in range(1,6):\n",
    "    ax.text(p.iloc[i-1][0]/4, i-1, 'Rating {}: {:.0f}%'.format(i, p.iloc[i-1][0]*100 / p.sum()[0]), color = 'white', weight = 'bold')"
   ]
  },
  {
   "cell_type": "markdown",
   "metadata": {},
   "source": [
    "# Getting Useful Data (Data Slicing)"
   ]
  },
  {
   "cell_type": "markdown",
   "metadata": {},
   "source": [
    "The data set now is super huge. We can guess that the by applying following parametrs we can significantly improve efficiency and reduce the dataset size with relatively important movies:\n",
    "\n",
    "* Remove movie with too less reviews (they are relatively not popular)\n",
    "* Remove customer who give too less reviews (they are relatively less active)\n",
    "\n",
    "On experimenting a lot with the dataset we came across about the fact that the movies who got reviews less than 10K are relatively unpopular and can be removed from the workiing dataset\n",
    "\n",
    "It can be implemented from the belo code:"
   ]
  },
  {
   "cell_type": "code",
   "execution_count": 24,
   "metadata": {},
   "outputs": [],
   "source": [
    "movie_summary = df.groupby('Movie_Id')['Rating'].agg(['count','mean'])\n",
    "top_movies = movie_summary[movie_summary['count'] <10000].index"
   ]
  },
  {
   "cell_type": "code",
   "execution_count": 25,
   "metadata": {},
   "outputs": [
    {
     "data": {
      "text/plain": [
       "Int64Index([   1,    2,    3,    4,    5,    6,    7,    9,   10,   11,\n",
       "            ...\n",
       "            4489, 4491, 4492, 4493, 4494, 4495, 4496, 4497, 4498, 4499],\n",
       "           dtype='int64', name='Movie_Id', length=4008)"
      ]
     },
     "execution_count": 25,
     "metadata": {},
     "output_type": "execute_result"
    }
   ],
   "source": [
    "top_movies"
   ]
  },
  {
   "cell_type": "code",
   "execution_count": 26,
   "metadata": {},
   "outputs": [
    {
     "name": "stdout",
     "output_type": "stream",
     "text": [
      "Original Shape: (24053764, 3)\n",
      "After Trim Shape: (18867784, 3)\n",
      "-Data Examples-\n",
      "          Cust_Id  Rating  Movie_Id\n",
      "5106       824097     2.0         8\n",
      "76919      219033     5.0        28\n",
      "127444    1953087     3.0        30\n",
      "177444    1213386     5.0        30\n",
      "278464    1556692     3.0        58\n",
      "364177    2515381     3.0       108\n",
      "421724    2376898     5.0       118\n",
      "494875    2144343     3.0       143\n",
      "603577     331811     3.0       175\n",
      "653577     730053     4.0       175\n",
      "718274    1909349     5.0       191\n",
      "768274    1394126     5.0       191\n",
      "819661    1162869     4.0       197\n",
      "869661    2457027     3.0       197\n",
      "919857    2030979     5.0       199\n",
      "1031333   1885310     4.0       241\n",
      "1093453   2238663     4.0       252\n",
      "1167620   2613456     5.0       269\n",
      "1217621   1891473     3.0       270\n",
      "1280664   1356095     5.0       285\n",
      "1336670   1706276     5.0       290\n",
      "1390718    662270     4.0       299\n",
      "1440718    420970     3.0       299\n",
      "1496965   1592086     5.0       311\n",
      "1546966   2528094     2.0       312\n",
      "1596967    524790     5.0       313\n",
      "1646967   2368894     3.0       313\n",
      "1704364   1767388     5.0       329\n",
      "1754365   2233186     4.0       330\n",
      "1804366   1889702     5.0       331\n",
      "...           ...     ...       ...\n",
      "22289255  1125733     3.0      4227\n",
      "22357283  2134683     4.0      4248\n",
      "22422276  1273501     5.0      4260\n",
      "22472592   906831     3.0      4262\n",
      "22524550  1466940     1.0      4266\n",
      "22578412  2436583     2.0      4269\n",
      "22668917  1024350     3.0      4302\n",
      "22719459   497196     3.0      4306\n",
      "22769459  1067741     4.0      4306\n",
      "22819459  2577625     5.0      4306\n",
      "22869459  2576036     3.0      4306\n",
      "22926293  1985658     3.0      4315\n",
      "22984261   145348     5.0      4330\n",
      "23048747  2317649     4.0      4341\n",
      "23101369  1236134     3.0      4345\n",
      "23159687  2532280     2.0      4353\n",
      "23212638  1306447     2.0      4356\n",
      "23262638   857714     4.0      4356\n",
      "23319673    34885     4.0      4364\n",
      "23403991   147386     1.0      4384\n",
      "23465140   387418     4.0      4389\n",
      "23517175   222274     4.0      4393\n",
      "23575289  2224473     2.0      4402\n",
      "23656240   455962     4.0      4432\n",
      "23706240  1135847     3.0      4432\n",
      "23756240  1603022     5.0      4432\n",
      "23845077   660580     4.0      4472\n",
      "23895077  1344527     4.0      4472\n",
      "23945077  1851400     4.0      4472\n",
      "24011203  1425971     4.0      4488\n",
      "\n",
      "[378 rows x 3 columns]\n"
     ]
    }
   ],
   "source": [
    "print('Original Shape: {}'.format(df.shape))\n",
    "df = df[~df['Movie_Id'].isin(top_movies)]\n",
    "print('After Trim Shape: {}'.format(df.shape))\n",
    "print('-Data Examples-')\n",
    "print(df.iloc[::50000])"
   ]
  },
  {
   "cell_type": "code",
   "execution_count": 27,
   "metadata": {},
   "outputs": [
    {
     "data": {
      "text/plain": [
       "(18867784, 3)"
      ]
     },
     "execution_count": 27,
     "metadata": {},
     "output_type": "execute_result"
    }
   ],
   "source": [
    "df.shape"
   ]
  },
  {
   "cell_type": "markdown",
   "metadata": {},
   "source": [
    "# Data Mapping"
   ]
  },
  {
   "cell_type": "markdown",
   "metadata": {},
   "source": [
    "### Reading Movie_title dataset which will be merged with the dataset to get the name from movie ID"
   ]
  },
  {
   "cell_type": "code",
   "execution_count": 28,
   "metadata": {},
   "outputs": [
    {
     "name": "stdout",
     "output_type": "stream",
     "text": [
      "            Year                          Name\n",
      "Movie_Id                                      \n",
      "1         2003.0               Dinosaur Planet\n",
      "2         2004.0    Isle of Man TT 2004 Review\n",
      "3         1997.0                     Character\n",
      "4         1994.0  Paula Abdul's Get Up & Dance\n",
      "5         2004.0      The Rise and Fall of ECW\n",
      "6         1997.0                          Sick\n",
      "7         1992.0                         8 Man\n",
      "8         2004.0    What the #$*! Do We Know!?\n",
      "9         1991.0      Class of Nuke 'Em High 2\n",
      "10        2001.0                       Fighter\n"
     ]
    }
   ],
   "source": [
    "df_title = pd.read_csv(r'C:\\Users\\Raj\\Desktop\\NF Dataset\\movie_titles.csv', encoding = \"ISO-8859-1\", header = None, names = ['Movie_Id', 'Year', 'Name'])\n",
    "df_title.set_index('Movie_Id', inplace = True)\n",
    "print (df_title.head(10))"
   ]
  },
  {
   "cell_type": "markdown",
   "metadata": {},
   "source": [
    "#### Importing Surprise package for collaborating Filtering"
   ]
  },
  {
   "cell_type": "code",
   "execution_count": 29,
   "metadata": {},
   "outputs": [],
   "source": [
    "from surprise import Reader,SVD,accuracy,Dataset"
   ]
  },
  {
   "cell_type": "code",
   "execution_count": 30,
   "metadata": {},
   "outputs": [],
   "source": [
    "from surprise.model_selection import cross_validate,train_test_split"
   ]
  },
  {
   "cell_type": "markdown",
   "metadata": {},
   "source": [
    "## we are gonna predict the the model with 75%train data and calculate RMSE and MAE\n",
    "<i>RMSE stands for ROOT MEAN SQUARE ERROR and MAE stands for MEAN ABSOLUTE ERROR "
   ]
  },
  {
   "cell_type": "code",
   "execution_count": 32,
   "metadata": {},
   "outputs": [
    {
     "name": "stdout",
     "output_type": "stream",
     "text": [
      "RMSE: 1.0255\n",
      "1.0254673813461568\n",
      "MAE:  0.8245\n",
      "0.8245087338717182\n"
     ]
    }
   ],
   "source": [
    "reader = Reader()\n",
    "\n",
    "data = Dataset.load_from_df(df[['Cust_Id', 'Movie_Id', 'Rating']][:100000], reader)\n",
    "\n",
    "# sample random trainset and testset\n",
    "# test set is made of 25% of the ratings.\n",
    "trainset, testset = train_test_split(data, test_size=.25)\n",
    "\n",
    "# We'll use the famous SVD algorithm.\n",
    "algo = SVD()\n",
    "\n",
    "# Train the algorithm on the trainset, and predict ratings for the testset\n",
    "algo.fit(trainset)\n",
    "predictions = algo.test(testset)\n",
    "\n",
    "# Then compute RMSE\n",
    "print(accuracy.rmse(predictions))\n",
    "print(accuracy.mae(predictions))"
   ]
  },
  {
   "cell_type": "markdown",
   "metadata": {},
   "source": [
    "### Since we cannot cannot calculate the accuracy as the recommendation is unsupervised and hence we will choose the algo with lower RMSE and MAE value\n",
    "<strong> Cross Validate will apply the algo for cv=3 times and return the RMSE and MAE with fit time and test time\n",
    "it is benificial to check the model thus created is feasible with time or not"
   ]
  },
  {
   "cell_type": "code",
   "execution_count": 33,
   "metadata": {},
   "outputs": [
    {
     "name": "stdout",
     "output_type": "stream",
     "text": [
      "Evaluating RMSE, MAE of algorithm SVD on 3 split(s).\n",
      "\n",
      "                  Fold 1  Fold 2  Fold 3  Mean    Std     \n",
      "RMSE (testset)    1.0168  1.0267  1.0202  1.0212  0.0041  \n",
      "MAE (testset)     0.8156  0.8142  0.7980  0.8092  0.0080  \n",
      "Fit time          4.38    5.38    4.97    4.91    0.41    \n",
      "Test time         0.23    0.25    0.26    0.25    0.01    \n"
     ]
    },
    {
     "data": {
      "text/plain": [
       "{'test_rmse': array([1.01678659, 1.0267131 , 1.02023476]),\n",
       " 'test_mae': array([0.81555476, 0.81421811, 0.79795242]),\n",
       " 'fit_time': (4.383497714996338, 5.3828349113464355, 4.966402530670166),\n",
       " 'test_time': (0.22869086265563965, 0.24745845794677734, 0.2630434036254883)}"
      ]
     },
     "execution_count": 33,
     "metadata": {},
     "output_type": "execute_result"
    }
   ],
   "source": [
    "cross_validate(algo,data, measures=['RMSE', 'MAE'],cv=3,verbose=True)"
   ]
  },
  {
   "cell_type": "markdown",
   "metadata": {},
   "source": []
  },
  {
   "cell_type": "code",
   "execution_count": 34,
   "metadata": {},
   "outputs": [
    {
     "data": {
      "text/plain": [
       "<surprise.prediction_algorithms.matrix_factorization.SVD at 0x1f9db74b828>"
      ]
     },
     "execution_count": 34,
     "metadata": {},
     "output_type": "execute_result"
    }
   ],
   "source": [
    "trainset_full = data.build_full_trainset()\n",
    "algo.fit(trainset_full)"
   ]
  },
  {
   "cell_type": "markdown",
   "metadata": {},
   "source": [
    "# Merging DataFrame and Movies Name using Movie ID as Index"
   ]
  },
  {
   "cell_type": "code",
   "execution_count": 35,
   "metadata": {},
   "outputs": [
    {
     "data": {
      "text/html": [
       "<div>\n",
       "<style scoped>\n",
       "    .dataframe tbody tr th:only-of-type {\n",
       "        vertical-align: middle;\n",
       "    }\n",
       "\n",
       "    .dataframe tbody tr th {\n",
       "        vertical-align: top;\n",
       "    }\n",
       "\n",
       "    .dataframe thead th {\n",
       "        text-align: right;\n",
       "    }\n",
       "</style>\n",
       "<table border=\"1\" class=\"dataframe\">\n",
       "  <thead>\n",
       "    <tr style=\"text-align: right;\">\n",
       "      <th></th>\n",
       "      <th>Cust_Id</th>\n",
       "      <th>Rating</th>\n",
       "      <th>Movie_Id</th>\n",
       "      <th>Year</th>\n",
       "      <th>Name</th>\n",
       "    </tr>\n",
       "  </thead>\n",
       "  <tbody>\n",
       "    <tr>\n",
       "      <th>0</th>\n",
       "      <td>824097</td>\n",
       "      <td>2.0</td>\n",
       "      <td>8</td>\n",
       "      <td>2004.0</td>\n",
       "      <td>What the #$*! Do We Know!?</td>\n",
       "    </tr>\n",
       "    <tr>\n",
       "      <th>1</th>\n",
       "      <td>2630686</td>\n",
       "      <td>5.0</td>\n",
       "      <td>8</td>\n",
       "      <td>2004.0</td>\n",
       "      <td>What the #$*! Do We Know!?</td>\n",
       "    </tr>\n",
       "    <tr>\n",
       "      <th>2</th>\n",
       "      <td>644003</td>\n",
       "      <td>3.0</td>\n",
       "      <td>8</td>\n",
       "      <td>2004.0</td>\n",
       "      <td>What the #$*! Do We Know!?</td>\n",
       "    </tr>\n",
       "    <tr>\n",
       "      <th>3</th>\n",
       "      <td>785314</td>\n",
       "      <td>1.0</td>\n",
       "      <td>8</td>\n",
       "      <td>2004.0</td>\n",
       "      <td>What the #$*! Do We Know!?</td>\n",
       "    </tr>\n",
       "    <tr>\n",
       "      <th>4</th>\n",
       "      <td>243963</td>\n",
       "      <td>3.0</td>\n",
       "      <td>8</td>\n",
       "      <td>2004.0</td>\n",
       "      <td>What the #$*! Do We Know!?</td>\n",
       "    </tr>\n",
       "  </tbody>\n",
       "</table>\n",
       "</div>"
      ],
      "text/plain": [
       "   Cust_Id  Rating  Movie_Id    Year                        Name\n",
       "0   824097     2.0         8  2004.0  What the #$*! Do We Know!?\n",
       "1  2630686     5.0         8  2004.0  What the #$*! Do We Know!?\n",
       "2   644003     3.0         8  2004.0  What the #$*! Do We Know!?\n",
       "3   785314     1.0         8  2004.0  What the #$*! Do We Know!?\n",
       "4   243963     3.0         8  2004.0  What the #$*! Do We Know!?"
      ]
     },
     "execution_count": 35,
     "metadata": {},
     "output_type": "execute_result"
    }
   ],
   "source": [
    "df = pd.merge(df,df_title,on='Movie_Id')\n",
    "df.head(5)"
   ]
  },
  {
   "cell_type": "code",
   "execution_count": 36,
   "metadata": {},
   "outputs": [
    {
     "data": {
      "text/html": [
       "<div>\n",
       "<style scoped>\n",
       "    .dataframe tbody tr th:only-of-type {\n",
       "        vertical-align: middle;\n",
       "    }\n",
       "\n",
       "    .dataframe tbody tr th {\n",
       "        vertical-align: top;\n",
       "    }\n",
       "\n",
       "    .dataframe thead th {\n",
       "        text-align: right;\n",
       "    }\n",
       "</style>\n",
       "<table border=\"1\" class=\"dataframe\">\n",
       "  <thead>\n",
       "    <tr style=\"text-align: right;\">\n",
       "      <th></th>\n",
       "      <th>Cust_Id</th>\n",
       "      <th>Rating</th>\n",
       "      <th>Movie_Id</th>\n",
       "      <th>Year</th>\n",
       "      <th>Name</th>\n",
       "    </tr>\n",
       "  </thead>\n",
       "  <tbody>\n",
       "    <tr>\n",
       "      <th>0</th>\n",
       "      <td>824097</td>\n",
       "      <td>2.0</td>\n",
       "      <td>8</td>\n",
       "      <td>2004.0</td>\n",
       "      <td>What the #$*! Do We Know!?</td>\n",
       "    </tr>\n",
       "    <tr>\n",
       "      <th>1</th>\n",
       "      <td>2630686</td>\n",
       "      <td>5.0</td>\n",
       "      <td>8</td>\n",
       "      <td>2004.0</td>\n",
       "      <td>What the #$*! Do We Know!?</td>\n",
       "    </tr>\n",
       "    <tr>\n",
       "      <th>2</th>\n",
       "      <td>644003</td>\n",
       "      <td>3.0</td>\n",
       "      <td>8</td>\n",
       "      <td>2004.0</td>\n",
       "      <td>What the #$*! Do We Know!?</td>\n",
       "    </tr>\n",
       "    <tr>\n",
       "      <th>3</th>\n",
       "      <td>785314</td>\n",
       "      <td>1.0</td>\n",
       "      <td>8</td>\n",
       "      <td>2004.0</td>\n",
       "      <td>What the #$*! Do We Know!?</td>\n",
       "    </tr>\n",
       "    <tr>\n",
       "      <th>4</th>\n",
       "      <td>243963</td>\n",
       "      <td>3.0</td>\n",
       "      <td>8</td>\n",
       "      <td>2004.0</td>\n",
       "      <td>What the #$*! Do We Know!?</td>\n",
       "    </tr>\n",
       "    <tr>\n",
       "      <th>5</th>\n",
       "      <td>229220</td>\n",
       "      <td>4.0</td>\n",
       "      <td>8</td>\n",
       "      <td>2004.0</td>\n",
       "      <td>What the #$*! Do We Know!?</td>\n",
       "    </tr>\n",
       "    <tr>\n",
       "      <th>6</th>\n",
       "      <td>1447783</td>\n",
       "      <td>4.0</td>\n",
       "      <td>8</td>\n",
       "      <td>2004.0</td>\n",
       "      <td>What the #$*! Do We Know!?</td>\n",
       "    </tr>\n",
       "    <tr>\n",
       "      <th>7</th>\n",
       "      <td>2580478</td>\n",
       "      <td>4.0</td>\n",
       "      <td>8</td>\n",
       "      <td>2004.0</td>\n",
       "      <td>What the #$*! Do We Know!?</td>\n",
       "    </tr>\n",
       "    <tr>\n",
       "      <th>8</th>\n",
       "      <td>2599087</td>\n",
       "      <td>3.0</td>\n",
       "      <td>8</td>\n",
       "      <td>2004.0</td>\n",
       "      <td>What the #$*! Do We Know!?</td>\n",
       "    </tr>\n",
       "    <tr>\n",
       "      <th>9</th>\n",
       "      <td>2352464</td>\n",
       "      <td>5.0</td>\n",
       "      <td>8</td>\n",
       "      <td>2004.0</td>\n",
       "      <td>What the #$*! Do We Know!?</td>\n",
       "    </tr>\n",
       "  </tbody>\n",
       "</table>\n",
       "</div>"
      ],
      "text/plain": [
       "   Cust_Id  Rating  Movie_Id    Year                        Name\n",
       "0   824097     2.0         8  2004.0  What the #$*! Do We Know!?\n",
       "1  2630686     5.0         8  2004.0  What the #$*! Do We Know!?\n",
       "2   644003     3.0         8  2004.0  What the #$*! Do We Know!?\n",
       "3   785314     1.0         8  2004.0  What the #$*! Do We Know!?\n",
       "4   243963     3.0         8  2004.0  What the #$*! Do We Know!?\n",
       "5   229220     4.0         8  2004.0  What the #$*! Do We Know!?\n",
       "6  1447783     4.0         8  2004.0  What the #$*! Do We Know!?\n",
       "7  2580478     4.0         8  2004.0  What the #$*! Do We Know!?\n",
       "8  2599087     3.0         8  2004.0  What the #$*! Do We Know!?\n",
       "9  2352464     5.0         8  2004.0  What the #$*! Do We Know!?"
      ]
     },
     "execution_count": 36,
     "metadata": {},
     "output_type": "execute_result"
    }
   ],
   "source": [
    "df.head(10)"
   ]
  },
  {
   "cell_type": "markdown",
   "metadata": {},
   "source": [
    "<strong><i> definig user function which will take user id as input and return the watch history and based on the watch history the model will predict the next movies to watch"
   ]
  },
  {
   "cell_type": "code",
   "execution_count": 37,
   "metadata": {},
   "outputs": [],
   "source": [
    "def user(user_id):\n",
    "    #Creating watch history of the entered user rated more than 4 \n",
    "    user_hist = df[(df['Cust_Id'] == user_id) & ((df['Rating'] == 5) | (df['Rating'] == 4 ))]\n",
    "    user_hist = user_hist.join(df_title['Name'],rsuffix='_right')\n",
    "    print(\"Top 3 Watch History \\n \\n \\n\",user_hist.head(3),\"\\n\",\"\\n\")\n",
    "    \n",
    "    \n",
    "    #creating recommend dataframe\n",
    "    user_rec = df_title.copy()\n",
    "    user_rec = user_rec.reset_index()\n",
    "    user_rec = user_rec[~user_rec['Movie_Id'].isin(top_movies)]\n",
    "    user_rec['Estimated_Score'] = user_rec['Movie_Id'].apply(lambda x: algo.predict(user_id, x).est)\n",
    "    user_rec = user_rec.drop('Movie_Id', axis = 1)\n",
    "    user_rec = user_rec.sort_values('Estimated_Score', ascending=False)\n",
    "    print(\"Recommended Movies\\n \\n\",user_rec.iloc[:,[0,2,1]].head(10))"
   ]
  },
  {
   "cell_type": "code",
   "execution_count": 38,
   "metadata": {},
   "outputs": [
    {
     "name": "stdout",
     "output_type": "stream",
     "text": [
      "Top 3 Watch History \n",
      " \n",
      " \n",
      "          Cust_Id  Rating  Movie_Id    Year                           Name  \\\n",
      "1        2630686     5.0         8  2004.0     What the #$*! Do We Know!?   \n",
      "1036829  2630686     4.0       299  2001.0          Bridget Jones's Diary   \n",
      "2646748  2630686     5.0       658  1991.0  Robin Hood: Prince of Thieves   \n",
      "\n",
      "              Name_right  \n",
      "1        Dinosaur Planet  \n",
      "1036829              NaN  \n",
      "2646748              NaN   \n",
      " \n",
      "\n",
      "Recommended Movies\n",
      " \n",
      "          Year  Estimated_Score                        Name\n",
      "7      2004.0         4.534397  What the #$*! Do We Know!?\n",
      "27     2002.0         3.881369             Lilo and Stitch\n",
      "13188  2002.0         3.822257                      Cypher\n",
      "13177  1995.0         3.822257               Ulysses' Gaze\n",
      "13178  2002.0         3.822257         Monday Night Mayhem\n",
      "13179  1998.0         3.822257                  Class Trip\n",
      "13180  2002.0         3.822257         Murder in Greenwich\n",
      "13181  1978.0         3.822257  Return from Witch Mountain\n",
      "13182  1974.0         3.822257   Story of Jacob and Joseph\n",
      "13183  1988.0         3.822257                High Spirits\n"
     ]
    }
   ],
   "source": [
    "user(2630686)"
   ]
  },
  {
   "cell_type": "code",
   "execution_count": 39,
   "metadata": {},
   "outputs": [
    {
     "name": "stdout",
     "output_type": "stream",
     "text": [
      "Top 3 Watch History \n",
      " \n",
      " \n",
      "         Cust_Id  Rating  Movie_Id    Year                    Name Name_right\n",
      "65385   2473170     5.0        30  2003.0  Something's Gotta Give        NaN\n",
      "264050  2473170     5.0       111  2003.0     Duplex (Widescreen)        NaN\n",
      "903344  2473170     4.0       273  2004.0                    Taxi        NaN \n",
      " \n",
      "\n",
      "Recommended Movies\n",
      " \n",
      "          Year  Estimated_Score                        Name\n",
      "29     2003.0         4.014344      Something's Gotta Give\n",
      "17     1994.0         3.969190            Immortal Beloved\n",
      "27     2002.0         3.929671             Lilo and Stitch\n",
      "13188  2002.0         3.821472                      Cypher\n",
      "13177  1995.0         3.821472               Ulysses' Gaze\n",
      "13178  2002.0         3.821472         Monday Night Mayhem\n",
      "13179  1998.0         3.821472                  Class Trip\n",
      "13180  2002.0         3.821472         Murder in Greenwich\n",
      "13181  1978.0         3.821472  Return from Witch Mountain\n",
      "13182  1974.0         3.821472   Story of Jacob and Joseph\n"
     ]
    }
   ],
   "source": [
    "user(2473170)"
   ]
  },
  {
   "cell_type": "markdown",
   "metadata": {},
   "source": [
    "### Recommending Movies For user 2173336"
   ]
  },
  {
   "cell_type": "code",
   "execution_count": 40,
   "metadata": {},
   "outputs": [
    {
     "name": "stdout",
     "output_type": "stream",
     "text": [
      "Top 3 Watch History \n",
      " \n",
      " \n",
      "          Cust_Id  Rating  Movie_Id    Year                    Name Name_right\n",
      "65384    2173336     5.0        30  2003.0  Something's Gotta Give        NaN\n",
      "1036494  2173336     4.0       299  2001.0   Bridget Jones's Diary        NaN\n",
      "2352172  2173336     4.0       571  1999.0         American Beauty        NaN \n",
      " \n",
      "\n",
      "Recommended Movies\n",
      " \n",
      "          Year  Estimated_Score                         Name\n",
      "29     2003.0         4.072097       Something's Gotta Give\n",
      "27     2002.0         3.910034              Lilo and Stitch\n",
      "10889  1978.0         3.738645  Revenge of the Pink Panther\n",
      "13188  2002.0         3.738645                       Cypher\n",
      "13177  1995.0         3.738645                Ulysses' Gaze\n",
      "13178  2002.0         3.738645          Monday Night Mayhem\n",
      "13179  1998.0         3.738645                   Class Trip\n",
      "13180  2002.0         3.738645          Murder in Greenwich\n",
      "13181  1978.0         3.738645   Return from Witch Mountain\n",
      "13182  1974.0         3.738645    Story of Jacob and Joseph\n"
     ]
    }
   ],
   "source": [
    "user(2173336)"
   ]
  },
  {
   "cell_type": "markdown",
   "metadata": {},
   "source": [
    "<h1>Using Correlation (with other movies based on customer ratings)<br>\n",
    " to map the similar recommended movies"
   ]
  },
  {
   "cell_type": "code",
   "execution_count": 41,
   "metadata": {},
   "outputs": [
    {
     "name": "stdout",
     "output_type": "stream",
     "text": [
      "(465986, 491)\n"
     ]
    }
   ],
   "source": [
    "movie_matrix = pd.pivot_table(df,values='Rating',index='Cust_Id',columns='Movie_Id')\n",
    "print(movie_matrix.shape)"
   ]
  },
  {
   "cell_type": "markdown",
   "metadata": {},
   "source": [
    "<b>WARNING:</b> Movie Matrix uses a lot of <i>RAM</i> if your system starts to crash then reduce the df size"
   ]
  },
  {
   "cell_type": "code",
   "execution_count": 50,
   "metadata": {},
   "outputs": [
    {
     "data": {
      "text/html": [
       "<div>\n",
       "<style scoped>\n",
       "    .dataframe tbody tr th:only-of-type {\n",
       "        vertical-align: middle;\n",
       "    }\n",
       "\n",
       "    .dataframe tbody tr th {\n",
       "        vertical-align: top;\n",
       "    }\n",
       "\n",
       "    .dataframe thead th {\n",
       "        text-align: right;\n",
       "    }\n",
       "</style>\n",
       "<table border=\"1\" class=\"dataframe\">\n",
       "  <thead>\n",
       "    <tr style=\"text-align: right;\">\n",
       "      <th>Movie_Id</th>\n",
       "      <th>8</th>\n",
       "      <th>18</th>\n",
       "      <th>28</th>\n",
       "      <th>30</th>\n",
       "      <th>58</th>\n",
       "      <th>77</th>\n",
       "      <th>83</th>\n",
       "      <th>97</th>\n",
       "      <th>108</th>\n",
       "      <th>111</th>\n",
       "      <th>...</th>\n",
       "      <th>4392</th>\n",
       "      <th>4393</th>\n",
       "      <th>4402</th>\n",
       "      <th>4418</th>\n",
       "      <th>4420</th>\n",
       "      <th>4432</th>\n",
       "      <th>4472</th>\n",
       "      <th>4479</th>\n",
       "      <th>4488</th>\n",
       "      <th>4490</th>\n",
       "    </tr>\n",
       "    <tr>\n",
       "      <th>Cust_Id</th>\n",
       "      <th></th>\n",
       "      <th></th>\n",
       "      <th></th>\n",
       "      <th></th>\n",
       "      <th></th>\n",
       "      <th></th>\n",
       "      <th></th>\n",
       "      <th></th>\n",
       "      <th></th>\n",
       "      <th></th>\n",
       "      <th></th>\n",
       "      <th></th>\n",
       "      <th></th>\n",
       "      <th></th>\n",
       "      <th></th>\n",
       "      <th></th>\n",
       "      <th></th>\n",
       "      <th></th>\n",
       "      <th></th>\n",
       "      <th></th>\n",
       "      <th></th>\n",
       "    </tr>\n",
       "  </thead>\n",
       "  <tbody>\n",
       "    <tr>\n",
       "      <th>6</th>\n",
       "      <td>NaN</td>\n",
       "      <td>NaN</td>\n",
       "      <td>NaN</td>\n",
       "      <td>3.0</td>\n",
       "      <td>NaN</td>\n",
       "      <td>NaN</td>\n",
       "      <td>NaN</td>\n",
       "      <td>NaN</td>\n",
       "      <td>NaN</td>\n",
       "      <td>NaN</td>\n",
       "      <td>...</td>\n",
       "      <td>NaN</td>\n",
       "      <td>3.0</td>\n",
       "      <td>NaN</td>\n",
       "      <td>NaN</td>\n",
       "      <td>NaN</td>\n",
       "      <td>3.0</td>\n",
       "      <td>3.0</td>\n",
       "      <td>NaN</td>\n",
       "      <td>NaN</td>\n",
       "      <td>NaN</td>\n",
       "    </tr>\n",
       "    <tr>\n",
       "      <th>7</th>\n",
       "      <td>5.0</td>\n",
       "      <td>NaN</td>\n",
       "      <td>4.0</td>\n",
       "      <td>5.0</td>\n",
       "      <td>NaN</td>\n",
       "      <td>NaN</td>\n",
       "      <td>5.0</td>\n",
       "      <td>NaN</td>\n",
       "      <td>NaN</td>\n",
       "      <td>NaN</td>\n",
       "      <td>...</td>\n",
       "      <td>NaN</td>\n",
       "      <td>4.0</td>\n",
       "      <td>NaN</td>\n",
       "      <td>NaN</td>\n",
       "      <td>NaN</td>\n",
       "      <td>5.0</td>\n",
       "      <td>3.0</td>\n",
       "      <td>5.0</td>\n",
       "      <td>NaN</td>\n",
       "      <td>NaN</td>\n",
       "    </tr>\n",
       "    <tr>\n",
       "      <th>8</th>\n",
       "      <td>NaN</td>\n",
       "      <td>NaN</td>\n",
       "      <td>NaN</td>\n",
       "      <td>NaN</td>\n",
       "      <td>NaN</td>\n",
       "      <td>NaN</td>\n",
       "      <td>NaN</td>\n",
       "      <td>NaN</td>\n",
       "      <td>NaN</td>\n",
       "      <td>NaN</td>\n",
       "      <td>...</td>\n",
       "      <td>NaN</td>\n",
       "      <td>NaN</td>\n",
       "      <td>NaN</td>\n",
       "      <td>NaN</td>\n",
       "      <td>NaN</td>\n",
       "      <td>NaN</td>\n",
       "      <td>NaN</td>\n",
       "      <td>NaN</td>\n",
       "      <td>NaN</td>\n",
       "      <td>NaN</td>\n",
       "    </tr>\n",
       "    <tr>\n",
       "      <th>10</th>\n",
       "      <td>NaN</td>\n",
       "      <td>NaN</td>\n",
       "      <td>NaN</td>\n",
       "      <td>NaN</td>\n",
       "      <td>NaN</td>\n",
       "      <td>NaN</td>\n",
       "      <td>NaN</td>\n",
       "      <td>NaN</td>\n",
       "      <td>NaN</td>\n",
       "      <td>NaN</td>\n",
       "      <td>...</td>\n",
       "      <td>NaN</td>\n",
       "      <td>NaN</td>\n",
       "      <td>NaN</td>\n",
       "      <td>NaN</td>\n",
       "      <td>NaN</td>\n",
       "      <td>NaN</td>\n",
       "      <td>NaN</td>\n",
       "      <td>NaN</td>\n",
       "      <td>NaN</td>\n",
       "      <td>NaN</td>\n",
       "    </tr>\n",
       "    <tr>\n",
       "      <th>25</th>\n",
       "      <td>NaN</td>\n",
       "      <td>NaN</td>\n",
       "      <td>NaN</td>\n",
       "      <td>NaN</td>\n",
       "      <td>NaN</td>\n",
       "      <td>NaN</td>\n",
       "      <td>NaN</td>\n",
       "      <td>NaN</td>\n",
       "      <td>NaN</td>\n",
       "      <td>NaN</td>\n",
       "      <td>...</td>\n",
       "      <td>NaN</td>\n",
       "      <td>NaN</td>\n",
       "      <td>NaN</td>\n",
       "      <td>NaN</td>\n",
       "      <td>NaN</td>\n",
       "      <td>5.0</td>\n",
       "      <td>NaN</td>\n",
       "      <td>NaN</td>\n",
       "      <td>NaN</td>\n",
       "      <td>NaN</td>\n",
       "    </tr>\n",
       "  </tbody>\n",
       "</table>\n",
       "<p>5 rows × 491 columns</p>\n",
       "</div>"
      ],
      "text/plain": [
       "Movie_Id  8     18    28    30    58    77    83    97    108   111   ...  \\\n",
       "Cust_Id                                                               ...   \n",
       "6          NaN   NaN   NaN   3.0   NaN   NaN   NaN   NaN   NaN   NaN  ...   \n",
       "7          5.0   NaN   4.0   5.0   NaN   NaN   5.0   NaN   NaN   NaN  ...   \n",
       "8          NaN   NaN   NaN   NaN   NaN   NaN   NaN   NaN   NaN   NaN  ...   \n",
       "10         NaN   NaN   NaN   NaN   NaN   NaN   NaN   NaN   NaN   NaN  ...   \n",
       "25         NaN   NaN   NaN   NaN   NaN   NaN   NaN   NaN   NaN   NaN  ...   \n",
       "\n",
       "Movie_Id  4392  4393  4402  4418  4420  4432  4472  4479  4488  4490  \n",
       "Cust_Id                                                               \n",
       "6          NaN   3.0   NaN   NaN   NaN   3.0   3.0   NaN   NaN   NaN  \n",
       "7          NaN   4.0   NaN   NaN   NaN   5.0   3.0   5.0   NaN   NaN  \n",
       "8          NaN   NaN   NaN   NaN   NaN   NaN   NaN   NaN   NaN   NaN  \n",
       "10         NaN   NaN   NaN   NaN   NaN   NaN   NaN   NaN   NaN   NaN  \n",
       "25         NaN   NaN   NaN   NaN   NaN   5.0   NaN   NaN   NaN   NaN  \n",
       "\n",
       "[5 rows x 491 columns]"
      ]
     },
     "execution_count": 50,
     "metadata": {},
     "output_type": "execute_result"
    }
   ],
   "source": [
    "movie_matrix.head()"
   ]
  },
  {
   "cell_type": "markdown",
   "metadata": {},
   "source": [
    "<b>Defing recommend function which will take movie title and min no of times the movie should be rated as input and return the recommended movies based on that"
   ]
  },
  {
   "cell_type": "code",
   "execution_count": 43,
   "metadata": {},
   "outputs": [],
   "source": [
    "def recommend(movie_title, min_count):\n",
    "    print(\"For movie ({})\".format(movie_title))\n",
    "    print(\"- Top 10 movies recommended based on correlation - \")\n",
    "    i = int(df_title.index[df_title['Name'] == movie_title][0])\n",
    "    target =movie_matrix[i]\n",
    "    similar_to_target = movie_matrix.corrwith(target)\n",
    "    corr_target = pd.DataFrame(similar_to_target, columns = ['Correlation'])\n",
    "    corr_target.dropna(inplace = True)\n",
    "    corr_target = corr_target.sort_values('Correlation', ascending = False)\n",
    "    corr_target.index = corr_target.index.map(int)\n",
    "    corr_target = corr_target.join(df_title).join(movie_summary)[['Correlation', 'Name', 'count', 'mean']]\n",
    "    print(corr_target[corr_target['count']>min_count][:10].to_string(index=False))"
   ]
  },
  {
   "cell_type": "markdown",
   "metadata": {},
   "source": [
    "The lower values of count means the movie has not been rated by many users so that movie might not be popular so it is better to give high count values"
   ]
  },
  {
   "cell_type": "code",
   "execution_count": 44,
   "metadata": {},
   "outputs": [
    {
     "name": "stdout",
     "output_type": "stream",
     "text": [
      "For movie (Spartan)\n",
      "- Top 10 movies recommended based on correlation - \n",
      " Correlation                  Name  count      mean\n",
      "    1.000000               Spartan  19018  3.167315\n",
      "    0.276561    Cowboy Bebop Remix  10605  3.910891\n",
      "    0.273098  The Spanish Prisoner  10585  3.604346\n",
      "    0.268491   Surviving Christmas  20251  3.027406\n",
      "    0.263951                 Below  11955  3.038394\n",
      "    0.257037             Ned Kelly  10258  3.168746\n",
      "    0.249745           A Man Apart  30958  3.379643\n",
      "    0.249031               Hostage  48617  3.762758\n",
      "    0.246580     Against the Ropes  15835  3.195895\n",
      "    0.244077             The Alamo  27667  3.130733\n"
     ]
    }
   ],
   "source": [
    "recommend(\"Spartan\", 1000)"
   ]
  },
  {
   "cell_type": "markdown",
   "metadata": {},
   "source": [
    "Recommending movies similar to \"Hostage\" with user rated more than 1K"
   ]
  },
  {
   "cell_type": "code",
   "execution_count": 48,
   "metadata": {},
   "outputs": [
    {
     "name": "stdout",
     "output_type": "stream",
     "text": [
      "For movie (Hostage)\n",
      "- Top 10 movies recommended based on correlation - \n",
      " Correlation                   Name  count      mean\n",
      "    1.000000                Hostage  48617  3.762758\n",
      "    0.444109   Domestic Disturbance  24127  3.525055\n",
      "    0.430027  The Amityville Horror  19867  3.482408\n",
      "    0.426663           Taking Lives  81260  3.478932\n",
      "    0.425981         Chain Reaction  15966  3.188150\n",
      "    0.417729            A Man Apart  30958  3.379643\n",
      "    0.410270         Blade: Trinity  42727  3.548974\n",
      "    0.409208                Trapped  18446  3.522498\n",
      "    0.405285            Exit Wounds  28079  2.999145\n",
      "    0.405050                   Taxi  32027  3.362475\n"
     ]
    }
   ],
   "source": [
    "recommend(\"Hostage\",1000)"
   ]
  },
  {
   "cell_type": "code",
   "execution_count": 47,
   "metadata": {},
   "outputs": [
    {
     "name": "stdout",
     "output_type": "stream",
     "text": [
      "For movie (What the #$*! Do We Know!?)\n",
      "- Top 10 movies recommended based on correlation - \n",
      " Correlation                                          Name  count      mean\n",
      "    1.000000                    What the #$*! Do We Know!?  14910  3.189805\n",
      "    0.229485                                 Super Size Me  89865  3.863773\n",
      "    0.222048                          Smallville: Season 1  10082  4.169609\n",
      "    0.221503                                Love Potion #9  10894  3.202405\n",
      "    0.217475                    A Love Song for Bobby Long  15915  3.556079\n",
      "    0.217305                            Music of the Heart  10297  3.608041\n",
      "    0.213540  Outfoxed: Rupert Murdoch's War on Journalism  11218  3.801836\n",
      "    0.206379                                      Chocolat  13352  3.938511\n",
      "    0.203717                                    Rising Sun  19960  3.425401\n",
      "    0.202846                                  Control Room  15432  3.692392\n"
     ]
    }
   ],
   "source": [
    "recommend(\"What the #$*! Do We Know!?\",0)"
   ]
  },
  {
   "cell_type": "markdown",
   "metadata": {},
   "source": [
    "<br><br><h1>-------------------------------END OF THE PROJECT--------------------------------------"
   ]
  },
  {
   "cell_type": "code",
   "execution_count": null,
   "metadata": {},
   "outputs": [],
   "source": []
  },
  {
   "cell_type": "code",
   "execution_count": null,
   "metadata": {},
   "outputs": [],
   "source": []
  }
 ],
 "metadata": {
  "kernelspec": {
   "display_name": "Python 3",
   "language": "python",
   "name": "python3"
  },
  "language_info": {
   "codemirror_mode": {
    "name": "ipython",
    "version": 3
   },
   "file_extension": ".py",
   "mimetype": "text/x-python",
   "name": "python",
   "nbconvert_exporter": "python",
   "pygments_lexer": "ipython3",
   "version": "3.7.3"
  }
 },
 "nbformat": 4,
 "nbformat_minor": 2
}
