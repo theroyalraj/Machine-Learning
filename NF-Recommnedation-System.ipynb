{
 "cells": [
  {
   "cell_type": "markdown",
   "metadata": {},
   "source": [
    " <center><h1> Netflix - Movie Recommendation</center>\n",
    "<img src=\"netflix.jpg\">"
   ]
  },
  {
   "cell_type": "markdown",
   "metadata": {},
   "source": [
    "\n",
    "   <h3>Netflix:One of the biggest collection of Movies and TV shows</h3>\n",
    "   Netflix has been leading the way for digital content since 1997\n",
    "\n",
    "Netflix is the world's leading internet entertainment service with over 148 million paid memberships in over 190 countries enjoying TV series, documentaries and feature films across a wide variety of genres and languages. Members can watch as much as they want, anytime, anywhere, on any internet-connected screen. Members can play, pause and resume watching, all without commercials or commitments.\n",
    "\n",
    "We aim to build a recommendation system with netflix dataset(provided by netflix) to achive. The Dataset was too huge. It consisted of 4 text data files, each file contains over 20M rows, i.e. over 4K movies and 400K customers. Which makes it **over 17K movies** and **500K+ customers**! Altogether\n",
    "\n",
    "<br>\n",
    "One of the major challenges was to get all these data loaded into the Kernel for analysis, I have encountered many times of Kernel running out of memory and tried many different ways of how to do it more efficiently. Welcome any suggestions!!!"
   ]
  },
  {
   "cell_type": "markdown",
   "metadata": {},
   "source": [
    "## Table of Content:\n",
    "\n",
    "* Objective\n",
    "\n",
    "* Data manipulation\n",
    "    -  Data loading\n",
    "    -  Data visualization\n",
    "    -  Data slicing\n",
    "    -  Data mapping\n",
    "    \n",
    "* Recommendation models\n",
    "    -  Recommend with Collaborative Filtering (using surprise SVD package)\n",
    "    -  Recommend with Pearsons' R correlation"
   ]
  },
  {
   "cell_type": "markdown",
   "metadata": {},
   "source": [
    "# Objective\n",
    "<br>\n",
    "Learn from data and recommend best TV shows to users, based on self & others behaviour"
   ]
  },
  {
   "cell_type": "markdown",
   "metadata": {},
   "source": [
    "# Importing Libraries"
   ]
  },
  {
   "cell_type": "code",
   "execution_count": 1,
   "metadata": {},
   "outputs": [],
   "source": [
    "import numpy as np\n",
    "import pandas as pd"
   ]
  },
  {
   "cell_type": "code",
   "execution_count": 2,
   "metadata": {},
   "outputs": [],
   "source": [
    "dataset=pd.read_csv(r\"C:\\Users\\Raj\\Desktop\\NF Dataset\\Machine-Learning\\combined_data_1.txt\",names = ['Cust_Id', 'Rating'])"
   ]
  },
  {
   "cell_type": "markdown",
   "metadata": {},
   "source": [
    "The shape shows the size of the dataset i.e 2.4 crore rows(Which is too huge)"
   ]
  },
  {
   "cell_type": "code",
   "execution_count": 3,
   "metadata": {},
   "outputs": [
    {
     "data": {
      "text/plain": [
       "(24058263, 2)"
      ]
     },
     "execution_count": 3,
     "metadata": {},
     "output_type": "execute_result"
    }
   ],
   "source": [
    "dataset.shape"
   ]
  },
  {
   "cell_type": "markdown",
   "metadata": {},
   "source": [
    "### df is used to concat with all dataset(Here only one out of 4 is used)"
   ]
  },
  {
   "cell_type": "code",
   "execution_count": 4,
   "metadata": {},
   "outputs": [
    {
     "data": {
      "text/plain": [
       "'To reduce the df size uncomment the below line'"
      ]
     },
     "execution_count": 4,
     "metadata": {},
     "output_type": "execute_result"
    }
   ],
   "source": [
    "df=dataset\n",
    "df.shape\n",
    "'''To reduce the df size uncomment the below line'''\n",
    "#df=dataset[:5000000]\n",
    "\n",
    "#dataset2 = pd.read_csv('../input/combined_data_2.txt',names = ['Cust_Id', 'Rating'])\n",
    "#dataset3 = pd.read_csv('../input/combined_data_3.txt', names = ['Cust_Id', 'Rating'])\n",
    "#dataset4 = pd.read_csv('../input/combined_data_4.txt', names = ['Cust_Id', 'Rating'])\n"
   ]
  },
  {
   "cell_type": "code",
   "execution_count": 5,
   "metadata": {},
   "outputs": [
    {
     "data": {
      "text/html": [
       "<div>\n",
       "<style scoped>\n",
       "    .dataframe tbody tr th:only-of-type {\n",
       "        vertical-align: middle;\n",
       "    }\n",
       "\n",
       "    .dataframe tbody tr th {\n",
       "        vertical-align: top;\n",
       "    }\n",
       "\n",
       "    .dataframe thead th {\n",
       "        text-align: right;\n",
       "    }\n",
       "</style>\n",
       "<table border=\"1\" class=\"dataframe\">\n",
       "  <thead>\n",
       "    <tr style=\"text-align: right;\">\n",
       "      <th></th>\n",
       "      <th>Cust_Id</th>\n",
       "      <th>Rating</th>\n",
       "    </tr>\n",
       "  </thead>\n",
       "  <tbody>\n",
       "    <tr>\n",
       "      <th>0</th>\n",
       "      <td>1:</td>\n",
       "      <td>NaN</td>\n",
       "    </tr>\n",
       "    <tr>\n",
       "      <th>1</th>\n",
       "      <td>1488844</td>\n",
       "      <td>3.0</td>\n",
       "    </tr>\n",
       "    <tr>\n",
       "      <th>2</th>\n",
       "      <td>822109</td>\n",
       "      <td>5.0</td>\n",
       "    </tr>\n",
       "    <tr>\n",
       "      <th>3</th>\n",
       "      <td>885013</td>\n",
       "      <td>4.0</td>\n",
       "    </tr>\n",
       "    <tr>\n",
       "      <th>4</th>\n",
       "      <td>30878</td>\n",
       "      <td>4.0</td>\n",
       "    </tr>\n",
       "    <tr>\n",
       "      <th>5</th>\n",
       "      <td>823519</td>\n",
       "      <td>3.0</td>\n",
       "    </tr>\n",
       "    <tr>\n",
       "      <th>6</th>\n",
       "      <td>893988</td>\n",
       "      <td>3.0</td>\n",
       "    </tr>\n",
       "    <tr>\n",
       "      <th>7</th>\n",
       "      <td>124105</td>\n",
       "      <td>4.0</td>\n",
       "    </tr>\n",
       "    <tr>\n",
       "      <th>8</th>\n",
       "      <td>1248029</td>\n",
       "      <td>3.0</td>\n",
       "    </tr>\n",
       "    <tr>\n",
       "      <th>9</th>\n",
       "      <td>1842128</td>\n",
       "      <td>4.0</td>\n",
       "    </tr>\n",
       "    <tr>\n",
       "      <th>10</th>\n",
       "      <td>2238063</td>\n",
       "      <td>3.0</td>\n",
       "    </tr>\n",
       "    <tr>\n",
       "      <th>11</th>\n",
       "      <td>1503895</td>\n",
       "      <td>4.0</td>\n",
       "    </tr>\n",
       "    <tr>\n",
       "      <th>12</th>\n",
       "      <td>2207774</td>\n",
       "      <td>5.0</td>\n",
       "    </tr>\n",
       "    <tr>\n",
       "      <th>13</th>\n",
       "      <td>2590061</td>\n",
       "      <td>3.0</td>\n",
       "    </tr>\n",
       "    <tr>\n",
       "      <th>14</th>\n",
       "      <td>2442</td>\n",
       "      <td>3.0</td>\n",
       "    </tr>\n",
       "    <tr>\n",
       "      <th>15</th>\n",
       "      <td>543865</td>\n",
       "      <td>4.0</td>\n",
       "    </tr>\n",
       "    <tr>\n",
       "      <th>16</th>\n",
       "      <td>1209119</td>\n",
       "      <td>4.0</td>\n",
       "    </tr>\n",
       "    <tr>\n",
       "      <th>17</th>\n",
       "      <td>804919</td>\n",
       "      <td>4.0</td>\n",
       "    </tr>\n",
       "    <tr>\n",
       "      <th>18</th>\n",
       "      <td>1086807</td>\n",
       "      <td>3.0</td>\n",
       "    </tr>\n",
       "    <tr>\n",
       "      <th>19</th>\n",
       "      <td>1711859</td>\n",
       "      <td>4.0</td>\n",
       "    </tr>\n",
       "  </tbody>\n",
       "</table>\n",
       "</div>"
      ],
      "text/plain": [
       "    Cust_Id  Rating\n",
       "0        1:     NaN\n",
       "1   1488844     3.0\n",
       "2    822109     5.0\n",
       "3    885013     4.0\n",
       "4     30878     4.0\n",
       "5    823519     3.0\n",
       "6    893988     3.0\n",
       "7    124105     4.0\n",
       "8   1248029     3.0\n",
       "9   1842128     4.0\n",
       "10  2238063     3.0\n",
       "11  1503895     4.0\n",
       "12  2207774     5.0\n",
       "13  2590061     3.0\n",
       "14     2442     3.0\n",
       "15   543865     4.0\n",
       "16  1209119     4.0\n",
       "17   804919     4.0\n",
       "18  1086807     3.0\n",
       "19  1711859     4.0"
      ]
     },
     "execution_count": 5,
     "metadata": {},
     "output_type": "execute_result"
    }
   ],
   "source": [
    "df.head(20)"
   ]
  },
  {
   "cell_type": "markdown",
   "metadata": {},
   "source": [
    "<h2>About Dataset</h2><br>\n",
    "    Each data file (there are 4 of them) contains below columns:\n",
    "\n",
    "* Movie ID (as first line of each new movie record / file)\n",
    "* Customer ID\n",
    "* Rating (1 to 5)\n",
    "* Date they gave the ratings\n",
    "\n",
    "There is another file contains the mapping of Movie ID to the movie background like name, year of release, etc"
   ]
  },
  {
   "cell_type": "code",
   "execution_count": 6,
   "metadata": {},
   "outputs": [],
   "source": [
    "#df2['Rating'] = df2['Rating'].astype(float)\n",
    "#df3['Rating'] = df3['Rating'].astype(float)\n",
    "#df4['Rating'] = df4['Rating'].astype(float)\n",
    "\n",
    "#df = df1.append(dataset2)\n",
    "#df = df.append(dataset3)\n",
    "#df = df.append(dataset4)\n"
   ]
  },
  {
   "cell_type": "markdown",
   "metadata": {},
   "source": [
    "<h2>Manupulating DataSet</h2>\n",
    "<h4>creating a new column of movie id for each customer rating"
   ]
  },
  {
   "cell_type": "code",
   "execution_count": 7,
   "metadata": {},
   "outputs": [
    {
     "name": "stdout",
     "output_type": "stream",
     "text": [
      "[1.000e+00 1.000e+00 1.000e+00 ... 4.499e+03 4.499e+03 4.499e+03]\n",
      "Movie numpy: [1.000e+00 1.000e+00 1.000e+00 ... 4.499e+03 4.499e+03 4.499e+03]\n",
      "Length: 24053764\n"
     ]
    }
   ],
   "source": [
    "arr=np.array(df.iloc[:,1])\n",
    "x=np.argwhere(np.isnan(arr))\n",
    "movie_np = []\n",
    "movie_id = 1\n",
    "\n",
    "for i in range(len(x)-1):\n",
    "    temp = np.full((1,int(x[i+1]-x[i]-1)), movie_id)\n",
    "    movie_np = np.append(movie_np, temp)\n",
    "    movie_id+=1\n",
    "    \n",
    "last_record = np.full((1,len(df) - int(x[i+1]) - 1),movie_id)\n",
    "movie_np = np.append(movie_np, last_record)\n",
    "print(movie_np)\n",
    "print('Movie numpy: {}'.format(movie_np))\n",
    "print('Length: {}'.format(len(movie_np)))"
   ]
  },
  {
   "cell_type": "markdown",
   "metadata": {},
   "source": [
    "### Merging the Dataset"
   ]
  },
  {
   "cell_type": "code",
   "execution_count": 8,
   "metadata": {},
   "outputs": [],
   "source": [
    "df = df[pd.notnull(df['Rating'])]"
   ]
  },
  {
   "cell_type": "code",
   "execution_count": 9,
   "metadata": {},
   "outputs": [
    {
     "name": "stderr",
     "output_type": "stream",
     "text": [
      "C:\\Users\\Raj\\Anaconda3_1\\lib\\site-packages\\ipykernel_launcher.py:1: SettingWithCopyWarning: \n",
      "A value is trying to be set on a copy of a slice from a DataFrame.\n",
      "Try using .loc[row_indexer,col_indexer] = value instead\n",
      "\n",
      "See the caveats in the documentation: http://pandas.pydata.org/pandas-docs/stable/indexing.html#indexing-view-versus-copy\n",
      "  \"\"\"Entry point for launching an IPython kernel.\n"
     ]
    }
   ],
   "source": [
    "df['Movie_Id'] = movie_np.astype(int)"
   ]
  },
  {
   "cell_type": "code",
   "execution_count": 10,
   "metadata": {},
   "outputs": [
    {
     "name": "stdout",
     "output_type": "stream",
     "text": [
      "-Dataset examples-\n",
      "   Cust_Id  Rating  Movie_Id\n",
      "1  1488844     3.0         1\n",
      "2   822109     5.0         1\n",
      "3   885013     4.0         1\n",
      "4    30878     4.0         1\n",
      "5   823519     3.0         1\n",
      "(24053764, 3)\n"
     ]
    },
    {
     "name": "stderr",
     "output_type": "stream",
     "text": [
      "C:\\Users\\Raj\\Anaconda3_1\\lib\\site-packages\\ipykernel_launcher.py:1: SettingWithCopyWarning: \n",
      "A value is trying to be set on a copy of a slice from a DataFrame.\n",
      "Try using .loc[row_indexer,col_indexer] = value instead\n",
      "\n",
      "See the caveats in the documentation: http://pandas.pydata.org/pandas-docs/stable/indexing.html#indexing-view-versus-copy\n",
      "  \"\"\"Entry point for launching an IPython kernel.\n"
     ]
    }
   ],
   "source": [
    "df['Cust_Id'] = df['Cust_Id'].astype(int)\n",
    "print('-Dataset examples-')\n",
    "print(df.head())\n",
    "print(df.shape)"
   ]
  },
  {
   "cell_type": "markdown",
   "metadata": {},
   "source": [
    "# Data Visualization"
   ]
  },
  {
   "cell_type": "code",
   "execution_count": 11,
   "metadata": {},
   "outputs": [],
   "source": [
    "import matplotlib.pyplot as pyp\n",
    "import seaborn as sns\n",
    "sns.set_style('white')\n",
    "%matplotlib inline"
   ]
  },
  {
   "cell_type": "code",
   "execution_count": 12,
   "metadata": {},
   "outputs": [
    {
     "data": {
      "text/html": [
       "<div>\n",
       "<style scoped>\n",
       "    .dataframe tbody tr th:only-of-type {\n",
       "        vertical-align: middle;\n",
       "    }\n",
       "\n",
       "    .dataframe tbody tr th {\n",
       "        vertical-align: top;\n",
       "    }\n",
       "\n",
       "    .dataframe thead th {\n",
       "        text-align: right;\n",
       "    }\n",
       "</style>\n",
       "<table border=\"1\" class=\"dataframe\">\n",
       "  <thead>\n",
       "    <tr style=\"text-align: right;\">\n",
       "      <th></th>\n",
       "      <th>Rating</th>\n",
       "    </tr>\n",
       "    <tr>\n",
       "      <th>Movie_Id</th>\n",
       "      <th></th>\n",
       "    </tr>\n",
       "  </thead>\n",
       "  <tbody>\n",
       "    <tr>\n",
       "      <th>1</th>\n",
       "      <td>3.749543</td>\n",
       "    </tr>\n",
       "    <tr>\n",
       "      <th>2</th>\n",
       "      <td>3.558621</td>\n",
       "    </tr>\n",
       "    <tr>\n",
       "      <th>3</th>\n",
       "      <td>3.641153</td>\n",
       "    </tr>\n",
       "    <tr>\n",
       "      <th>4</th>\n",
       "      <td>2.739437</td>\n",
       "    </tr>\n",
       "    <tr>\n",
       "      <th>5</th>\n",
       "      <td>3.919298</td>\n",
       "    </tr>\n",
       "  </tbody>\n",
       "</table>\n",
       "</div>"
      ],
      "text/plain": [
       "            Rating\n",
       "Movie_Id          \n",
       "1         3.749543\n",
       "2         3.558621\n",
       "3         3.641153\n",
       "4         2.739437\n",
       "5         3.919298"
      ]
     },
     "execution_count": 12,
     "metadata": {},
     "output_type": "execute_result"
    }
   ],
   "source": [
    "ratings = pd.DataFrame(df.groupby('Movie_Id')['Rating'].mean())\n",
    "ratings.head()"
   ]
  },
  {
   "cell_type": "code",
   "execution_count": 13,
   "metadata": {},
   "outputs": [
    {
     "data": {
      "text/html": [
       "<div>\n",
       "<style scoped>\n",
       "    .dataframe tbody tr th:only-of-type {\n",
       "        vertical-align: middle;\n",
       "    }\n",
       "\n",
       "    .dataframe tbody tr th {\n",
       "        vertical-align: top;\n",
       "    }\n",
       "\n",
       "    .dataframe thead th {\n",
       "        text-align: right;\n",
       "    }\n",
       "</style>\n",
       "<table border=\"1\" class=\"dataframe\">\n",
       "  <thead>\n",
       "    <tr style=\"text-align: right;\">\n",
       "      <th></th>\n",
       "      <th>Rating</th>\n",
       "      <th>num of ratings</th>\n",
       "    </tr>\n",
       "    <tr>\n",
       "      <th>Movie_Id</th>\n",
       "      <th></th>\n",
       "      <th></th>\n",
       "    </tr>\n",
       "  </thead>\n",
       "  <tbody>\n",
       "    <tr>\n",
       "      <th>1</th>\n",
       "      <td>3.749543</td>\n",
       "      <td>547</td>\n",
       "    </tr>\n",
       "    <tr>\n",
       "      <th>2</th>\n",
       "      <td>3.558621</td>\n",
       "      <td>145</td>\n",
       "    </tr>\n",
       "    <tr>\n",
       "      <th>3</th>\n",
       "      <td>3.641153</td>\n",
       "      <td>2012</td>\n",
       "    </tr>\n",
       "    <tr>\n",
       "      <th>4</th>\n",
       "      <td>2.739437</td>\n",
       "      <td>142</td>\n",
       "    </tr>\n",
       "    <tr>\n",
       "      <th>5</th>\n",
       "      <td>3.919298</td>\n",
       "      <td>1140</td>\n",
       "    </tr>\n",
       "  </tbody>\n",
       "</table>\n",
       "</div>"
      ],
      "text/plain": [
       "            Rating  num of ratings\n",
       "Movie_Id                          \n",
       "1         3.749543             547\n",
       "2         3.558621             145\n",
       "3         3.641153            2012\n",
       "4         2.739437             142\n",
       "5         3.919298            1140"
      ]
     },
     "execution_count": 13,
     "metadata": {},
     "output_type": "execute_result"
    }
   ],
   "source": [
    "ratings['num of ratings'] = pd.DataFrame(df.groupby('Movie_Id')['Rating'].count())\n",
    "ratings.head()"
   ]
  },
  {
   "cell_type": "code",
   "execution_count": 14,
   "metadata": {},
   "outputs": [
    {
     "data": {
      "text/html": [
       "<div>\n",
       "<style scoped>\n",
       "    .dataframe tbody tr th:only-of-type {\n",
       "        vertical-align: middle;\n",
       "    }\n",
       "\n",
       "    .dataframe tbody tr th {\n",
       "        vertical-align: top;\n",
       "    }\n",
       "\n",
       "    .dataframe thead th {\n",
       "        text-align: right;\n",
       "    }\n",
       "</style>\n",
       "<table border=\"1\" class=\"dataframe\">\n",
       "  <thead>\n",
       "    <tr style=\"text-align: right;\">\n",
       "      <th></th>\n",
       "      <th>Rating</th>\n",
       "      <th>num of ratings</th>\n",
       "    </tr>\n",
       "    <tr>\n",
       "      <th>Movie_Id</th>\n",
       "      <th></th>\n",
       "      <th></th>\n",
       "    </tr>\n",
       "  </thead>\n",
       "  <tbody>\n",
       "    <tr>\n",
       "      <th>1905</th>\n",
       "      <td>4.153908</td>\n",
       "      <td>193941</td>\n",
       "    </tr>\n",
       "    <tr>\n",
       "      <th>2152</th>\n",
       "      <td>3.425322</td>\n",
       "      <td>162597</td>\n",
       "    </tr>\n",
       "    <tr>\n",
       "      <th>3860</th>\n",
       "      <td>3.434517</td>\n",
       "      <td>160454</td>\n",
       "    </tr>\n",
       "    <tr>\n",
       "      <th>4432</th>\n",
       "      <td>3.755364</td>\n",
       "      <td>156183</td>\n",
       "    </tr>\n",
       "    <tr>\n",
       "      <th>571</th>\n",
       "      <td>3.962585</td>\n",
       "      <td>154832</td>\n",
       "    </tr>\n",
       "    <tr>\n",
       "      <th>3938</th>\n",
       "      <td>4.144543</td>\n",
       "      <td>153996</td>\n",
       "    </tr>\n",
       "    <tr>\n",
       "      <th>4306</th>\n",
       "      <td>4.325245</td>\n",
       "      <td>151292</td>\n",
       "    </tr>\n",
       "    <tr>\n",
       "      <th>2452</th>\n",
       "      <td>4.434708</td>\n",
       "      <td>149866</td>\n",
       "    </tr>\n",
       "    <tr>\n",
       "      <th>1962</th>\n",
       "      <td>3.750569</td>\n",
       "      <td>145519</td>\n",
       "    </tr>\n",
       "    <tr>\n",
       "      <th>3962</th>\n",
       "      <td>4.415523</td>\n",
       "      <td>140979</td>\n",
       "    </tr>\n",
       "  </tbody>\n",
       "</table>\n",
       "</div>"
      ],
      "text/plain": [
       "            Rating  num of ratings\n",
       "Movie_Id                          \n",
       "1905      4.153908          193941\n",
       "2152      3.425322          162597\n",
       "3860      3.434517          160454\n",
       "4432      3.755364          156183\n",
       "571       3.962585          154832\n",
       "3938      4.144543          153996\n",
       "4306      4.325245          151292\n",
       "2452      4.434708          149866\n",
       "1962      3.750569          145519\n",
       "3962      4.415523          140979"
      ]
     },
     "execution_count": 14,
     "metadata": {},
     "output_type": "execute_result"
    }
   ],
   "source": [
    "ratings.sort_values('num of ratings',ascending=False).head(10)"
   ]
  },
  {
   "cell_type": "code",
   "execution_count": 15,
   "metadata": {},
   "outputs": [
    {
     "data": {
      "text/plain": [
       "<matplotlib.axes._subplots.AxesSubplot at 0x2020d04dda0>"
      ]
     },
     "execution_count": 15,
     "metadata": {},
     "output_type": "execute_result"
    },
    {
     "data": {
      "image/png": "[encoded data removed]",
      "text/plain": [
       "<Figure size 1080x288 with 1 Axes>"
      ]
     },
     "metadata": {
      "needs_background": "light"
     },
     "output_type": "display_data"
    }
   ],
   "source": [
    "pyp.figure(figsize=(15,4))\n",
    "pyp.title('User rating')\n",
    "pyp.xlabel('Total Rating')\n",
    "pyp.ylabel('no user rated')\n",
    "ratings['num of ratings'].hist(bins=50)"
   ]
  },
  {
   "cell_type": "code",
   "execution_count": 16,
   "metadata": {},
   "outputs": [
    {
     "data": {
      "text/plain": [
       "<matplotlib.axes._subplots.AxesSubplot at 0x2020e2a0f28>"
      ]
     },
     "execution_count": 16,
     "metadata": {},
     "output_type": "execute_result"
    },
    {
     "data": {
      "image/png": "[encoded data removed]",
      "text/plain": [
       "<Figure size 720x288 with 1 Axes>"
      ]
     },
     "metadata": {
      "needs_background": "light"
     },
     "output_type": "display_data"
    }
   ],
   "source": [
    "pyp.figure(figsize=(10,4))\n",
    "pyp.title('Rating Distribution')\n",
    "pyp.xlabel('Rating')\n",
    "ratings['Rating'].hist(bins=70)"
   ]
  },
  {
   "cell_type": "code",
   "execution_count": 17,
   "metadata": {},
   "outputs": [
    {
     "data": {
      "text/plain": [
       "<seaborn.axisgrid.JointGrid at 0x2020e24d710>"
      ]
     },
     "execution_count": 17,
     "metadata": {},
     "output_type": "execute_result"
    },
    {
     "data": {
      "image/png": "[encoded data removed]",
      "text/plain": [
       "<Figure size 432x432 with 3 Axes>"
      ]
     },
     "metadata": {
      "needs_background": "light"
     },
     "output_type": "display_data"
    }
   ],
   "source": [
    "sns.jointplot(x='Rating',y='num of ratings',data=ratings,alpha=0.5)"
   ]
  },
  {
   "cell_type": "code",
   "execution_count": 18,
   "metadata": {},
   "outputs": [
    {
     "data": {
      "text/plain": [
       "<seaborn.axisgrid.PairGrid at 0x2020e39e630>"
      ]
     },
     "execution_count": 18,
     "metadata": {},
     "output_type": "execute_result"
    },
    {
     "data": {
      "image/png": "[encoded data removed]",
      "text/plain": [
       "<Figure size 540x540 with 12 Axes>"
      ]
     },
     "metadata": {
      "needs_background": "light"
     },
     "output_type": "display_data"
    }
   ],
   "source": [
    "sns.pairplot(df.head(500))"
   ]
  },
  {
   "cell_type": "code",
   "execution_count": 19,
   "metadata": {},
   "outputs": [
    {
     "data": {
      "image/png": "[encoded data removed]",
      "text/plain": [
       "<Figure size 1080x720 with 1 Axes>"
      ]
     },
     "metadata": {
      "needs_background": "light"
     },
     "output_type": "display_data"
    }
   ],
   "source": [
    "p = df.groupby('Rating')['Rating'].agg(['count'])\n",
    "\n",
    "# get movie count\n",
    "movie_count = df.iloc[-1,-1]\n",
    "\n",
    "# get customer count\n",
    "cust_count = df['Cust_Id'].nunique() - movie_count\n",
    "\n",
    "# get rating count\n",
    "rating_count = df['Cust_Id'].count() - movie_count\n",
    "\n",
    "ax = p.plot(kind = 'barh', legend = False, figsize = (15,10))\n",
    "pyp.title('Total pool: {:,} Movies, {:,} customers, {:,} ratings given'.format(movie_count, cust_count, rating_count), fontsize=20)\n",
    "pyp.axis('off')\n",
    "\n",
    "for i in range(1,6):\n",
    "    ax.text(p.iloc[i-1][0]/4, i-1, 'Rating {}: {:.0f}%'.format(i, p.iloc[i-1][0]*100 / p.sum()[0]), color = 'white', weight = 'bold')"
   ]
  },
  {
   "cell_type": "markdown",
   "metadata": {},
   "source": [
    "# Getting Useful Data (Data Slicing)"
   ]
  },
  {
   "cell_type": "markdown",
   "metadata": {},
   "source": [
    "The data set now is super huge. We can guess that the by applying following parameters we can significantly improve efficiency and reduce the dataset size with relatively important movies:\n",
    "\n",
    "* Remove movie with too less ratings (they are relatively not popular)\n",
    "* Remove customer who give too less ratings (they are relatively less active)\n",
    "\n",
    "On experimenting a lot with the dataset we came across about the fact that the movies who got ratings less than 10K are relatively unpopular and can be removed from the working dataset\n",
    "\n",
    "It can be implemented from the below code:"
   ]
  },
  {
   "cell_type": "code",
   "execution_count": 20,
   "metadata": {},
   "outputs": [],
   "source": [
    "movie_summary = df.groupby('Movie_Id')['Rating'].agg(['count','mean'])\n",
    "top_movies = movie_summary[movie_summary['count'] <10000].index"
   ]
  },
  {
   "cell_type": "code",
   "execution_count": 21,
   "metadata": {},
   "outputs": [
    {
     "data": {
      "text/plain": [
       "Int64Index([   1,    2,    3,    4,    5,    6,    7,    9,   10,   11,\n",
       "            ...\n",
       "            4489, 4491, 4492, 4493, 4494, 4495, 4496, 4497, 4498, 4499],\n",
       "           dtype='int64', name='Movie_Id', length=4008)"
      ]
     },
     "execution_count": 21,
     "metadata": {},
     "output_type": "execute_result"
    }
   ],
   "source": [
    "top_movies"
   ]
  },
  {
   "cell_type": "code",
   "execution_count": 22,
   "metadata": {},
   "outputs": [
    {
     "name": "stdout",
     "output_type": "stream",
     "text": [
      "Original Shape: (24053764, 3)\n",
      "After Trim Shape: (18867784, 3)\n",
      "-Data Examples-\n",
      "          Cust_Id  Rating  Movie_Id\n",
      "5106       824097     2.0         8\n",
      "76919      219033     5.0        28\n",
      "127444    1953087     3.0        30\n",
      "177444    1213386     5.0        30\n",
      "278464    1556692     3.0        58\n",
      "364177    2515381     3.0       108\n",
      "421724    2376898     5.0       118\n",
      "494875    2144343     3.0       143\n",
      "603577     331811     3.0       175\n",
      "653577     730053     4.0       175\n",
      "718274    1909349     5.0       191\n",
      "768274    1394126     5.0       191\n",
      "819661    1162869     4.0       197\n",
      "869661    2457027     3.0       197\n",
      "919857    2030979     5.0       199\n",
      "1031333   1885310     4.0       241\n",
      "1093453   2238663     4.0       252\n",
      "1167620   2613456     5.0       269\n",
      "1217621   1891473     3.0       270\n",
      "1280664   1356095     5.0       285\n",
      "1336670   1706276     5.0       290\n",
      "1390718    662270     4.0       299\n",
      "1440718    420970     3.0       299\n",
      "1496965   1592086     5.0       311\n",
      "1546966   2528094     2.0       312\n",
      "1596967    524790     5.0       313\n",
      "1646967   2368894     3.0       313\n",
      "1704364   1767388     5.0       329\n",
      "1754365   2233186     4.0       330\n",
      "1804366   1889702     5.0       331\n",
      "...           ...     ...       ...\n",
      "22289255  1125733     3.0      4227\n",
      "22357283  2134683     4.0      4248\n",
      "22422276  1273501     5.0      4260\n",
      "22472592   906831     3.0      4262\n",
      "22524550  1466940     1.0      4266\n",
      "22578412  2436583     2.0      4269\n",
      "22668917  1024350     3.0      4302\n",
      "22719459   497196     3.0      4306\n",
      "22769459  1067741     4.0      4306\n",
      "22819459  2577625     5.0      4306\n",
      "22869459  2576036     3.0      4306\n",
      "22926293  1985658     3.0      4315\n",
      "22984261   145348     5.0      4330\n",
      "23048747  2317649     4.0      4341\n",
      "23101369  1236134     3.0      4345\n",
      "23159687  2532280     2.0      4353\n",
      "23212638  1306447     2.0      4356\n",
      "23262638   857714     4.0      4356\n",
      "23319673    34885     4.0      4364\n",
      "23403991   147386     1.0      4384\n",
      "23465140   387418     4.0      4389\n",
      "23517175   222274     4.0      4393\n",
      "23575289  2224473     2.0      4402\n",
      "23656240   455962     4.0      4432\n",
      "23706240  1135847     3.0      4432\n",
      "23756240  1603022     5.0      4432\n",
      "23845077   660580     4.0      4472\n",
      "23895077  1344527     4.0      4472\n",
      "23945077  1851400     4.0      4472\n",
      "24011203  1425971     4.0      4488\n",
      "\n",
      "[378 rows x 3 columns]\n"
     ]
    }
   ],
   "source": [
    "print('Original Shape: {}'.format(df.shape))\n",
    "df = df[~df['Movie_Id'].isin(top_movies)]\n",
    "print('After Trim Shape: {}'.format(df.shape))\n",
    "print('-Data Examples-')\n",
    "print(df.iloc[::50000])"
   ]
  },
  {
   "cell_type": "code",
   "execution_count": 23,
   "metadata": {},
   "outputs": [
    {
     "data": {
      "text/plain": [
       "(18867784, 3)"
      ]
     },
     "execution_count": 23,
     "metadata": {},
     "output_type": "execute_result"
    }
   ],
   "source": [
    "df.shape"
   ]
  },
  {
   "cell_type": "markdown",
   "metadata": {},
   "source": [
    "# Data Mapping"
   ]
  },
  {
   "cell_type": "markdown",
   "metadata": {},
   "source": [
    "### Reading Movie_title dataset which will be merged with the dataset to get the name from movie ID"
   ]
  },
  {
   "cell_type": "code",
   "execution_count": 24,
   "metadata": {},
   "outputs": [
    {
     "name": "stdout",
     "output_type": "stream",
     "text": [
      "            Year                          Name\n",
      "Movie_Id                                      \n",
      "1         2003.0               Dinosaur Planet\n",
      "2         2004.0    Isle of Man TT 2004 Review\n",
      "3         1997.0                     Character\n",
      "4         1994.0  Paula Abdul's Get Up & Dance\n",
      "5         2004.0      The Rise and Fall of ECW\n",
      "6         1997.0                          Sick\n",
      "7         1992.0                         8 Man\n",
      "8         2004.0    What the #$*! Do We Know!?\n",
      "9         1991.0      Class of Nuke 'Em High 2\n",
      "10        2001.0                       Fighter\n"
     ]
    }
   ],
   "source": [
    "df_title = pd.read_csv(r'C:\\Users\\Raj\\Desktop\\NF Dataset\\movie_titles.csv', encoding = \"ISO-8859-1\", header = None, names = ['Movie_Id', 'Year', 'Name'])\n",
    "df_title.set_index('Movie_Id', inplace = True)\n",
    "print (df_title.head(10))"
   ]
  },
  {
   "cell_type": "markdown",
   "metadata": {},
   "source": [
    "#### Importing Surprise package for collaborating Filtering"
   ]
  },
  {
   "cell_type": "code",
   "execution_count": 25,
   "metadata": {},
   "outputs": [],
   "source": [
    "from surprise import Reader,SVD,accuracy,Dataset"
   ]
  },
  {
   "cell_type": "code",
   "execution_count": 26,
   "metadata": {},
   "outputs": [],
   "source": [
    "from surprise.model_selection import cross_validate,train_test_split"
   ]
  },
  {
   "cell_type": "markdown",
   "metadata": {},
   "source": [
    "## we are gonna predict the the model with 75%train data and calculate RMSE and MAE\n",
    "<i>RMSE stands for ROOT MEAN SQUARE ERROR and MAE stands for MEAN ABSOLUTE ERROR "
   ]
  },
  {
   "cell_type": "code",
   "execution_count": 27,
   "metadata": {},
   "outputs": [
    {
     "name": "stdout",
     "output_type": "stream",
     "text": [
      "RMSE: 1.0210\n",
      "1.0210447579717523\n",
      "MAE:  0.8093\n",
      "0.8092621357630428\n"
     ]
    }
   ],
   "source": [
    "reader = Reader()\n",
    "\n",
    "data = Dataset.load_from_df(df[['Cust_Id', 'Movie_Id', 'Rating']][:100000], reader)\n",
    "\n",
    "# sample random trainset and testset\n",
    "# test set is made of 25% of the ratings.\n",
    "trainset, testset = train_test_split(data, test_size=.25)\n",
    "\n",
    "# We'll use the famous SVD algorithm.\n",
    "algo = SVD()\n",
    "\n",
    "# Train the algorithm on the trainset, and predict ratings for the testset\n",
    "algo.fit(trainset)\n",
    "predictions = algo.test(testset)\n",
    "\n",
    "# Then compute RMSE\n",
    "print(accuracy.rmse(predictions))\n",
    "print(accuracy.mae(predictions))"
   ]
  },
  {
   "cell_type": "markdown",
   "metadata": {},
   "source": [
    "### Since we cannot calculate the accuracy as the recommendation is unsupervised and hence we will choose the algo with lower RMSE and MAE value\n",
    "<strong> Cross Validate will apply the algo for cv=3 times and return the RMSE and MAE with fit time and test time\n",
    "it is benificial to check the model thus created is feasible with time or not"
   ]
  },
  {
   "cell_type": "code",
   "execution_count": 28,
   "metadata": {},
   "outputs": [
    {
     "name": "stdout",
     "output_type": "stream",
     "text": [
      "Evaluating RMSE, MAE of algorithm SVD on 3 split(s).\n",
      "\n",
      "                  Fold 1  Fold 2  Fold 3  Mean    Std     \n",
      "RMSE (testset)    1.0179  1.0220  1.0227  1.0209  0.0021  \n",
      "MAE (testset)     0.8127  0.8191  0.8176  0.8165  0.0028  \n",
      "Fit time          6.82    5.83    5.35    6.00    0.61    \n",
      "Test time         0.27    0.25    0.25    0.26    0.01    \n"
     ]
    },
    {
     "data": {
      "text/plain": [
       "{'test_rmse': array([1.01791746, 1.02202238, 1.02272091]),\n",
       " 'test_mae': array([0.81267925, 0.8191329 , 0.8176496 ]),\n",
       " 'fit_time': (6.816389322280884, 5.829797267913818, 5.345332622528076),\n",
       " 'test_time': (0.2695271968841553, 0.25396108627319336, 0.2539694309234619)}"
      ]
     },
     "execution_count": 28,
     "metadata": {},
     "output_type": "execute_result"
    }
   ],
   "source": [
    "cross_validate(algo,data, measures=['RMSE', 'MAE'],cv=3,verbose=True)"
   ]
  },
  {
   "cell_type": "markdown",
   "metadata": {},
   "source": [
    "Our Model(algo) will now be trained on full trainset"
   ]
  },
  {
   "cell_type": "code",
   "execution_count": 29,
   "metadata": {},
   "outputs": [
    {
     "data": {
      "text/plain": [
       "<surprise.prediction_algorithms.matrix_factorization.SVD at 0x202331d3da0>"
      ]
     },
     "execution_count": 29,
     "metadata": {},
     "output_type": "execute_result"
    }
   ],
   "source": [
    "trainset_full = data.build_full_trainset()\n",
    "algo.fit(trainset_full)"
   ]
  },
  {
   "cell_type": "markdown",
   "metadata": {},
   "source": [
    "# Merging DataFrame and Movies Name using Movie ID as Index"
   ]
  },
  {
   "cell_type": "code",
   "execution_count": 30,
   "metadata": {},
   "outputs": [
    {
     "data": {
      "text/html": [
       "<div>\n",
       "<style scoped>\n",
       "    .dataframe tbody tr th:only-of-type {\n",
       "        vertical-align: middle;\n",
       "    }\n",
       "\n",
       "    .dataframe tbody tr th {\n",
       "        vertical-align: top;\n",
       "    }\n",
       "\n",
       "    .dataframe thead th {\n",
       "        text-align: right;\n",
       "    }\n",
       "</style>\n",
       "<table border=\"1\" class=\"dataframe\">\n",
       "  <thead>\n",
       "    <tr style=\"text-align: right;\">\n",
       "      <th></th>\n",
       "      <th>Cust_Id</th>\n",
       "      <th>Rating</th>\n",
       "      <th>Movie_Id</th>\n",
       "      <th>Year</th>\n",
       "      <th>Name</th>\n",
       "    </tr>\n",
       "  </thead>\n",
       "  <tbody>\n",
       "    <tr>\n",
       "      <th>0</th>\n",
       "      <td>824097</td>\n",
       "      <td>2.0</td>\n",
       "      <td>8</td>\n",
       "      <td>2004.0</td>\n",
       "      <td>What the #$*! Do We Know!?</td>\n",
       "    </tr>\n",
       "    <tr>\n",
       "      <th>1</th>\n",
       "      <td>2630686</td>\n",
       "      <td>5.0</td>\n",
       "      <td>8</td>\n",
       "      <td>2004.0</td>\n",
       "      <td>What the #$*! Do We Know!?</td>\n",
       "    </tr>\n",
       "    <tr>\n",
       "      <th>2</th>\n",
       "      <td>644003</td>\n",
       "      <td>3.0</td>\n",
       "      <td>8</td>\n",
       "      <td>2004.0</td>\n",
       "      <td>What the #$*! Do We Know!?</td>\n",
       "    </tr>\n",
       "    <tr>\n",
       "      <th>3</th>\n",
       "      <td>785314</td>\n",
       "      <td>1.0</td>\n",
       "      <td>8</td>\n",
       "      <td>2004.0</td>\n",
       "      <td>What the #$*! Do We Know!?</td>\n",
       "    </tr>\n",
       "    <tr>\n",
       "      <th>4</th>\n",
       "      <td>243963</td>\n",
       "      <td>3.0</td>\n",
       "      <td>8</td>\n",
       "      <td>2004.0</td>\n",
       "      <td>What the #$*! Do We Know!?</td>\n",
       "    </tr>\n",
       "  </tbody>\n",
       "</table>\n",
       "</div>"
      ],
      "text/plain": [
       "   Cust_Id  Rating  Movie_Id    Year                        Name\n",
       "0   824097     2.0         8  2004.0  What the #$*! Do We Know!?\n",
       "1  2630686     5.0         8  2004.0  What the #$*! Do We Know!?\n",
       "2   644003     3.0         8  2004.0  What the #$*! Do We Know!?\n",
       "3   785314     1.0         8  2004.0  What the #$*! Do We Know!?\n",
       "4   243963     3.0         8  2004.0  What the #$*! Do We Know!?"
      ]
     },
     "execution_count": 30,
     "metadata": {},
     "output_type": "execute_result"
    }
   ],
   "source": [
    "df = pd.merge(df,df_title,on='Movie_Id')\n",
    "df.head(5)"
   ]
  },
  {
   "cell_type": "code",
   "execution_count": 31,
   "metadata": {},
   "outputs": [
    {
     "data": {
      "text/html": [
       "<div>\n",
       "<style scoped>\n",
       "    .dataframe tbody tr th:only-of-type {\n",
       "        vertical-align: middle;\n",
       "    }\n",
       "\n",
       "    .dataframe tbody tr th {\n",
       "        vertical-align: top;\n",
       "    }\n",
       "\n",
       "    .dataframe thead th {\n",
       "        text-align: right;\n",
       "    }\n",
       "</style>\n",
       "<table border=\"1\" class=\"dataframe\">\n",
       "  <thead>\n",
       "    <tr style=\"text-align: right;\">\n",
       "      <th></th>\n",
       "      <th>Cust_Id</th>\n",
       "      <th>Rating</th>\n",
       "      <th>Movie_Id</th>\n",
       "      <th>Year</th>\n",
       "      <th>Name</th>\n",
       "    </tr>\n",
       "  </thead>\n",
       "  <tbody>\n",
       "    <tr>\n",
       "      <th>0</th>\n",
       "      <td>824097</td>\n",
       "      <td>2.0</td>\n",
       "      <td>8</td>\n",
       "      <td>2004.0</td>\n",
       "      <td>What the #$*! Do We Know!?</td>\n",
       "    </tr>\n",
       "    <tr>\n",
       "      <th>1</th>\n",
       "      <td>2630686</td>\n",
       "      <td>5.0</td>\n",
       "      <td>8</td>\n",
       "      <td>2004.0</td>\n",
       "      <td>What the #$*! Do We Know!?</td>\n",
       "    </tr>\n",
       "    <tr>\n",
       "      <th>2</th>\n",
       "      <td>644003</td>\n",
       "      <td>3.0</td>\n",
       "      <td>8</td>\n",
       "      <td>2004.0</td>\n",
       "      <td>What the #$*! Do We Know!?</td>\n",
       "    </tr>\n",
       "    <tr>\n",
       "      <th>3</th>\n",
       "      <td>785314</td>\n",
       "      <td>1.0</td>\n",
       "      <td>8</td>\n",
       "      <td>2004.0</td>\n",
       "      <td>What the #$*! Do We Know!?</td>\n",
       "    </tr>\n",
       "    <tr>\n",
       "      <th>4</th>\n",
       "      <td>243963</td>\n",
       "      <td>3.0</td>\n",
       "      <td>8</td>\n",
       "      <td>2004.0</td>\n",
       "      <td>What the #$*! Do We Know!?</td>\n",
       "    </tr>\n",
       "    <tr>\n",
       "      <th>5</th>\n",
       "      <td>229220</td>\n",
       "      <td>4.0</td>\n",
       "      <td>8</td>\n",
       "      <td>2004.0</td>\n",
       "      <td>What the #$*! Do We Know!?</td>\n",
       "    </tr>\n",
       "    <tr>\n",
       "      <th>6</th>\n",
       "      <td>1447783</td>\n",
       "      <td>4.0</td>\n",
       "      <td>8</td>\n",
       "      <td>2004.0</td>\n",
       "      <td>What the #$*! Do We Know!?</td>\n",
       "    </tr>\n",
       "    <tr>\n",
       "      <th>7</th>\n",
       "      <td>2580478</td>\n",
       "      <td>4.0</td>\n",
       "      <td>8</td>\n",
       "      <td>2004.0</td>\n",
       "      <td>What the #$*! Do We Know!?</td>\n",
       "    </tr>\n",
       "    <tr>\n",
       "      <th>8</th>\n",
       "      <td>2599087</td>\n",
       "      <td>3.0</td>\n",
       "      <td>8</td>\n",
       "      <td>2004.0</td>\n",
       "      <td>What the #$*! Do We Know!?</td>\n",
       "    </tr>\n",
       "    <tr>\n",
       "      <th>9</th>\n",
       "      <td>2352464</td>\n",
       "      <td>5.0</td>\n",
       "      <td>8</td>\n",
       "      <td>2004.0</td>\n",
       "      <td>What the #$*! Do We Know!?</td>\n",
       "    </tr>\n",
       "  </tbody>\n",
       "</table>\n",
       "</div>"
      ],
      "text/plain": [
       "   Cust_Id  Rating  Movie_Id    Year                        Name\n",
       "0   824097     2.0         8  2004.0  What the #$*! Do We Know!?\n",
       "1  2630686     5.0         8  2004.0  What the #$*! Do We Know!?\n",
       "2   644003     3.0         8  2004.0  What the #$*! Do We Know!?\n",
       "3   785314     1.0         8  2004.0  What the #$*! Do We Know!?\n",
       "4   243963     3.0         8  2004.0  What the #$*! Do We Know!?\n",
       "5   229220     4.0         8  2004.0  What the #$*! Do We Know!?\n",
       "6  1447783     4.0         8  2004.0  What the #$*! Do We Know!?\n",
       "7  2580478     4.0         8  2004.0  What the #$*! Do We Know!?\n",
       "8  2599087     3.0         8  2004.0  What the #$*! Do We Know!?\n",
       "9  2352464     5.0         8  2004.0  What the #$*! Do We Know!?"
      ]
     },
     "execution_count": 31,
     "metadata": {},
     "output_type": "execute_result"
    }
   ],
   "source": [
    "df.head(10)"
   ]
  },
  {
   "cell_type": "markdown",
   "metadata": {},
   "source": [
    "<strong><i> definig user function which will take user id as input and return the watch history and based on the watch history the model will predict the next movies to watch"
   ]
  },
  {
   "cell_type": "code",
   "execution_count": 32,
   "metadata": {},
   "outputs": [],
   "source": [
    "def user(user_id):\n",
    "    #Creating watch history of the entered user rated more than 4 \n",
    "    user_hist = df[(df['Cust_Id'] == user_id) & ((df['Rating'] == 5) | (df['Rating'] == 4 ))]\n",
    "    user_hist = user_hist.join(df_title['Name'],rsuffix='_right')\n",
    "    print(\"Top 3 Watch History \\n \\n \\n\",user_hist.head(3),\"\\n\",\"\\n\")\n",
    "    \n",
    "    \n",
    "    #creating recommend dataframe\n",
    "    user_rec = df_title.copy()\n",
    "    user_rec = user_rec.reset_index()\n",
    "    user_rec = user_rec[~user_rec['Movie_Id'].isin(top_movies)]\n",
    "    user_rec['Estimated_Score'] = user_rec['Movie_Id'].apply(lambda x: algo.predict(user_id, x).est)\n",
    "    user_rec = user_rec.drop('Movie_Id', axis = 1)\n",
    "    user_rec = user_rec.sort_values('Estimated_Score', ascending=False)\n",
    "    print(\"Recommended Movies\\n \\n\",user_rec.iloc[:,[0,2,1]].head(10))"
   ]
  },
  {
   "cell_type": "code",
   "execution_count": 33,
   "metadata": {},
   "outputs": [
    {
     "name": "stdout",
     "output_type": "stream",
     "text": [
      "Top 3 Watch History \n",
      " \n",
      " \n",
      "          Cust_Id  Rating  Movie_Id    Year                           Name  \\\n",
      "1        2630686     5.0         8  2004.0     What the #$*! Do We Know!?   \n",
      "1036829  2630686     4.0       299  2001.0          Bridget Jones's Diary   \n",
      "2646748  2630686     5.0       658  1991.0  Robin Hood: Prince of Thieves   \n",
      "\n",
      "              Name_right  \n",
      "1        Dinosaur Planet  \n",
      "1036829              NaN  \n",
      "2646748              NaN   \n",
      " \n",
      "\n",
      "Recommended Movies\n",
      " \n",
      "          Year  Estimated_Score                        Name\n",
      "7      2004.0         4.387463  What the #$*! Do We Know!?\n",
      "27     2002.0         4.088455             Lilo and Stitch\n",
      "29     2003.0         3.962146      Something's Gotta Give\n",
      "17     1994.0         3.945326            Immortal Beloved\n",
      "17768  2003.0         3.840736                 The Company\n",
      "13174  1992.0         3.840736                  Rapid Fire\n",
      "13176  2002.0         3.840736        CSI: Miami: Season 1\n",
      "13177  1995.0         3.840736               Ulysses' Gaze\n",
      "13178  2002.0         3.840736         Monday Night Mayhem\n",
      "13179  1998.0         3.840736                  Class Trip\n"
     ]
    }
   ],
   "source": [
    "user(2630686)"
   ]
  },
  {
   "cell_type": "code",
   "execution_count": 34,
   "metadata": {},
   "outputs": [
    {
     "name": "stdout",
     "output_type": "stream",
     "text": [
      "Top 3 Watch History \n",
      " \n",
      " \n",
      "         Cust_Id  Rating  Movie_Id    Year                    Name Name_right\n",
      "65385   2473170     5.0        30  2003.0  Something's Gotta Give        NaN\n",
      "264050  2473170     5.0       111  2003.0     Duplex (Widescreen)        NaN\n",
      "903344  2473170     4.0       273  2004.0                    Taxi        NaN \n",
      " \n",
      "\n",
      "Recommended Movies\n",
      " \n",
      "          Year  Estimated_Score                        Name\n",
      "27     2002.0         4.235052             Lilo and Stitch\n",
      "29     2003.0         4.214337      Something's Gotta Give\n",
      "17     1994.0         3.850789            Immortal Beloved\n",
      "13188  2002.0         3.811862                      Cypher\n",
      "13177  1995.0         3.811862               Ulysses' Gaze\n",
      "13178  2002.0         3.811862         Monday Night Mayhem\n",
      "13179  1998.0         3.811862                  Class Trip\n",
      "13180  2002.0         3.811862         Murder in Greenwich\n",
      "13181  1978.0         3.811862  Return from Witch Mountain\n",
      "13182  1974.0         3.811862   Story of Jacob and Joseph\n"
     ]
    }
   ],
   "source": [
    "user(2473170)"
   ]
  },
  {
   "cell_type": "markdown",
   "metadata": {},
   "source": [
    "### Recommending Movies For user 2173336"
   ]
  },
  {
   "cell_type": "code",
   "execution_count": 35,
   "metadata": {},
   "outputs": [
    {
     "name": "stdout",
     "output_type": "stream",
     "text": [
      "Top 3 Watch History \n",
      " \n",
      " \n",
      "          Cust_Id  Rating  Movie_Id    Year                    Name Name_right\n",
      "65384    2173336     5.0        30  2003.0  Something's Gotta Give        NaN\n",
      "1036494  2173336     4.0       299  2001.0   Bridget Jones's Diary        NaN\n",
      "2352172  2173336     4.0       571  1999.0         American Beauty        NaN \n",
      " \n",
      "\n",
      "Recommended Movies\n",
      " \n",
      "          Year  Estimated_Score                        Name\n",
      "29     2003.0         3.795872      Something's Gotta Give\n",
      "7      2004.0         3.793029  What the #$*! Do We Know!?\n",
      "13188  2002.0         3.760926                      Cypher\n",
      "13177  1995.0         3.760926               Ulysses' Gaze\n",
      "13178  2002.0         3.760926         Monday Night Mayhem\n",
      "13179  1998.0         3.760926                  Class Trip\n",
      "13180  2002.0         3.760926         Murder in Greenwich\n",
      "13181  1978.0         3.760926  Return from Witch Mountain\n",
      "13182  1974.0         3.760926   Story of Jacob and Joseph\n",
      "13183  1988.0         3.760926                High Spirits\n"
     ]
    }
   ],
   "source": [
    "user(2173336)"
   ]
  },
  {
   "cell_type": "markdown",
   "metadata": {},
   "source": [
    "<h1>Using Correlation (with other movies based on customer ratings)<br>\n",
    " to map the similar recommended movies"
   ]
  },
  {
   "cell_type": "code",
   "execution_count": 36,
   "metadata": {},
   "outputs": [
    {
     "name": "stdout",
     "output_type": "stream",
     "text": [
      "(465986, 491)\n"
     ]
    }
   ],
   "source": [
    "movie_matrix = pd.pivot_table(df,values='Rating',index='Cust_Id',columns='Movie_Id')\n",
    "print(movie_matrix.shape)"
   ]
  },
  {
   "cell_type": "markdown",
   "metadata": {},
   "source": [
    "<b>WARNING:</b> Movie Matrix uses a lot of <i>RAM</i> if your system starts to crash then reduce the df size"
   ]
  },
  {
   "cell_type": "code",
   "execution_count": 37,
   "metadata": {},
   "outputs": [
    {
     "data": {
      "text/html": [
       "<div>\n",
       "<style scoped>\n",
       "    .dataframe tbody tr th:only-of-type {\n",
       "        vertical-align: middle;\n",
       "    }\n",
       "\n",
       "    .dataframe tbody tr th {\n",
       "        vertical-align: top;\n",
       "    }\n",
       "\n",
       "    .dataframe thead th {\n",
       "        text-align: right;\n",
       "    }\n",
       "</style>\n",
       "<table border=\"1\" class=\"dataframe\">\n",
       "  <thead>\n",
       "    <tr style=\"text-align: right;\">\n",
       "      <th>Movie_Id</th>\n",
       "      <th>8</th>\n",
       "      <th>18</th>\n",
       "      <th>28</th>\n",
       "      <th>30</th>\n",
       "      <th>58</th>\n",
       "      <th>77</th>\n",
       "      <th>83</th>\n",
       "      <th>97</th>\n",
       "      <th>108</th>\n",
       "      <th>111</th>\n",
       "      <th>...</th>\n",
       "      <th>4392</th>\n",
       "      <th>4393</th>\n",
       "      <th>4402</th>\n",
       "      <th>4418</th>\n",
       "      <th>4420</th>\n",
       "      <th>4432</th>\n",
       "      <th>4472</th>\n",
       "      <th>4479</th>\n",
       "      <th>4488</th>\n",
       "      <th>4490</th>\n",
       "    </tr>\n",
       "    <tr>\n",
       "      <th>Cust_Id</th>\n",
       "      <th></th>\n",
       "      <th></th>\n",
       "      <th></th>\n",
       "      <th></th>\n",
       "      <th></th>\n",
       "      <th></th>\n",
       "      <th></th>\n",
       "      <th></th>\n",
       "      <th></th>\n",
       "      <th></th>\n",
       "      <th></th>\n",
       "      <th></th>\n",
       "      <th></th>\n",
       "      <th></th>\n",
       "      <th></th>\n",
       "      <th></th>\n",
       "      <th></th>\n",
       "      <th></th>\n",
       "      <th></th>\n",
       "      <th></th>\n",
       "      <th></th>\n",
       "    </tr>\n",
       "  </thead>\n",
       "  <tbody>\n",
       "    <tr>\n",
       "      <th>6</th>\n",
       "      <td>NaN</td>\n",
       "      <td>NaN</td>\n",
       "      <td>NaN</td>\n",
       "      <td>3.0</td>\n",
       "      <td>NaN</td>\n",
       "      <td>NaN</td>\n",
       "      <td>NaN</td>\n",
       "      <td>NaN</td>\n",
       "      <td>NaN</td>\n",
       "      <td>NaN</td>\n",
       "      <td>...</td>\n",
       "      <td>NaN</td>\n",
       "      <td>3.0</td>\n",
       "      <td>NaN</td>\n",
       "      <td>NaN</td>\n",
       "      <td>NaN</td>\n",
       "      <td>3.0</td>\n",
       "      <td>3.0</td>\n",
       "      <td>NaN</td>\n",
       "      <td>NaN</td>\n",
       "      <td>NaN</td>\n",
       "    </tr>\n",
       "    <tr>\n",
       "      <th>7</th>\n",
       "      <td>5.0</td>\n",
       "      <td>NaN</td>\n",
       "      <td>4.0</td>\n",
       "      <td>5.0</td>\n",
       "      <td>NaN</td>\n",
       "      <td>NaN</td>\n",
       "      <td>5.0</td>\n",
       "      <td>NaN</td>\n",
       "      <td>NaN</td>\n",
       "      <td>NaN</td>\n",
       "      <td>...</td>\n",
       "      <td>NaN</td>\n",
       "      <td>4.0</td>\n",
       "      <td>NaN</td>\n",
       "      <td>NaN</td>\n",
       "      <td>NaN</td>\n",
       "      <td>5.0</td>\n",
       "      <td>3.0</td>\n",
       "      <td>5.0</td>\n",
       "      <td>NaN</td>\n",
       "      <td>NaN</td>\n",
       "    </tr>\n",
       "    <tr>\n",
       "      <th>8</th>\n",
       "      <td>NaN</td>\n",
       "      <td>NaN</td>\n",
       "      <td>NaN</td>\n",
       "      <td>NaN</td>\n",
       "      <td>NaN</td>\n",
       "      <td>NaN</td>\n",
       "      <td>NaN</td>\n",
       "      <td>NaN</td>\n",
       "      <td>NaN</td>\n",
       "      <td>NaN</td>\n",
       "      <td>...</td>\n",
       "      <td>NaN</td>\n",
       "      <td>NaN</td>\n",
       "      <td>NaN</td>\n",
       "      <td>NaN</td>\n",
       "      <td>NaN</td>\n",
       "      <td>NaN</td>\n",
       "      <td>NaN</td>\n",
       "      <td>NaN</td>\n",
       "      <td>NaN</td>\n",
       "      <td>NaN</td>\n",
       "    </tr>\n",
       "    <tr>\n",
       "      <th>10</th>\n",
       "      <td>NaN</td>\n",
       "      <td>NaN</td>\n",
       "      <td>NaN</td>\n",
       "      <td>NaN</td>\n",
       "      <td>NaN</td>\n",
       "      <td>NaN</td>\n",
       "      <td>NaN</td>\n",
       "      <td>NaN</td>\n",
       "      <td>NaN</td>\n",
       "      <td>NaN</td>\n",
       "      <td>...</td>\n",
       "      <td>NaN</td>\n",
       "      <td>NaN</td>\n",
       "      <td>NaN</td>\n",
       "      <td>NaN</td>\n",
       "      <td>NaN</td>\n",
       "      <td>NaN</td>\n",
       "      <td>NaN</td>\n",
       "      <td>NaN</td>\n",
       "      <td>NaN</td>\n",
       "      <td>NaN</td>\n",
       "    </tr>\n",
       "    <tr>\n",
       "      <th>25</th>\n",
       "      <td>NaN</td>\n",
       "      <td>NaN</td>\n",
       "      <td>NaN</td>\n",
       "      <td>NaN</td>\n",
       "      <td>NaN</td>\n",
       "      <td>NaN</td>\n",
       "      <td>NaN</td>\n",
       "      <td>NaN</td>\n",
       "      <td>NaN</td>\n",
       "      <td>NaN</td>\n",
       "      <td>...</td>\n",
       "      <td>NaN</td>\n",
       "      <td>NaN</td>\n",
       "      <td>NaN</td>\n",
       "      <td>NaN</td>\n",
       "      <td>NaN</td>\n",
       "      <td>5.0</td>\n",
       "      <td>NaN</td>\n",
       "      <td>NaN</td>\n",
       "      <td>NaN</td>\n",
       "      <td>NaN</td>\n",
       "    </tr>\n",
       "  </tbody>\n",
       "</table>\n",
       "<p>5 rows × 491 columns</p>\n",
       "</div>"
      ],
      "text/plain": [
       "Movie_Id  8     18    28    30    58    77    83    97    108   111   ...  \\\n",
       "Cust_Id                                                               ...   \n",
       "6          NaN   NaN   NaN   3.0   NaN   NaN   NaN   NaN   NaN   NaN  ...   \n",
       "7          5.0   NaN   4.0   5.0   NaN   NaN   5.0   NaN   NaN   NaN  ...   \n",
       "8          NaN   NaN   NaN   NaN   NaN   NaN   NaN   NaN   NaN   NaN  ...   \n",
       "10         NaN   NaN   NaN   NaN   NaN   NaN   NaN   NaN   NaN   NaN  ...   \n",
       "25         NaN   NaN   NaN   NaN   NaN   NaN   NaN   NaN   NaN   NaN  ...   \n",
       "\n",
       "Movie_Id  4392  4393  4402  4418  4420  4432  4472  4479  4488  4490  \n",
       "Cust_Id                                                               \n",
       "6          NaN   3.0   NaN   NaN   NaN   3.0   3.0   NaN   NaN   NaN  \n",
       "7          NaN   4.0   NaN   NaN   NaN   5.0   3.0   5.0   NaN   NaN  \n",
       "8          NaN   NaN   NaN   NaN   NaN   NaN   NaN   NaN   NaN   NaN  \n",
       "10         NaN   NaN   NaN   NaN   NaN   NaN   NaN   NaN   NaN   NaN  \n",
       "25         NaN   NaN   NaN   NaN   NaN   5.0   NaN   NaN   NaN   NaN  \n",
       "\n",
       "[5 rows x 491 columns]"
      ]
     },
     "execution_count": 37,
     "metadata": {},
     "output_type": "execute_result"
    }
   ],
   "source": [
    "movie_matrix.head()"
   ]
  },
  {
   "cell_type": "markdown",
   "metadata": {},
   "source": [
    "<b>Defing recommend function which will take movie title and min no of times the movie should be rated as input and return the recommended movies based on that"
   ]
  },
  {
   "cell_type": "code",
   "execution_count": 38,
   "metadata": {},
   "outputs": [],
   "source": [
    "def recommend(movie_title, min_count):\n",
    "    print(\"For movie ({})\".format(movie_title))\n",
    "    print(\"- Top 10 movies recommended based on correlation - \")\n",
    "    i = int(df_title.index[df_title['Name'] == movie_title][0])\n",
    "    target =movie_matrix[i]\n",
    "    similar_to_target = movie_matrix.corrwith(target)\n",
    "    corr_target = pd.DataFrame(similar_to_target, columns = ['Correlation'])\n",
    "    corr_target.dropna(inplace = True)\n",
    "    corr_target = corr_target.sort_values('Correlation', ascending = False)\n",
    "    corr_target.index = corr_target.index.map(int)\n",
    "    corr_target = corr_target.join(df_title).join(movie_summary)[['Correlation', 'Name', 'count', 'mean']]\n",
    "    print(corr_target[corr_target['count']>min_count][:10].to_string(index=False))"
   ]
  },
  {
   "cell_type": "markdown",
   "metadata": {},
   "source": [
    "The lower values of count means the movie has not been rated by many users so that movie might not be popular so it is better to give high count values"
   ]
  },
  {
   "cell_type": "code",
   "execution_count": 39,
   "metadata": {},
   "outputs": [
    {
     "name": "stdout",
     "output_type": "stream",
     "text": [
      "For movie (Spartan)\n",
      "- Top 10 movies recommended based on correlation - \n",
      " Correlation                  Name  count      mean\n",
      "    1.000000               Spartan  19018  3.167315\n",
      "    0.276561    Cowboy Bebop Remix  10605  3.910891\n",
      "    0.273098  The Spanish Prisoner  10585  3.604346\n",
      "    0.268491   Surviving Christmas  20251  3.027406\n",
      "    0.263951                 Below  11955  3.038394\n",
      "    0.257037             Ned Kelly  10258  3.168746\n",
      "    0.249745           A Man Apart  30958  3.379643\n",
      "    0.249031               Hostage  48617  3.762758\n",
      "    0.246580     Against the Ropes  15835  3.195895\n",
      "    0.244077             The Alamo  27667  3.130733\n"
     ]
    }
   ],
   "source": [
    "recommend(\"Spartan\", 1000)"
   ]
  },
  {
   "cell_type": "markdown",
   "metadata": {},
   "source": [
    "Recommending movies similar to \"Hostage\" with user rated more than 1K"
   ]
  },
  {
   "cell_type": "code",
   "execution_count": 40,
   "metadata": {},
   "outputs": [
    {
     "name": "stdout",
     "output_type": "stream",
     "text": [
      "For movie (Hostage)\n",
      "- Top 10 movies recommended based on correlation - \n",
      " Correlation                   Name  count      mean\n",
      "    1.000000                Hostage  48617  3.762758\n",
      "    0.444109   Domestic Disturbance  24127  3.525055\n",
      "    0.430027  The Amityville Horror  19867  3.482408\n",
      "    0.426663           Taking Lives  81260  3.478932\n",
      "    0.425981         Chain Reaction  15966  3.188150\n",
      "    0.417729            A Man Apart  30958  3.379643\n",
      "    0.410270         Blade: Trinity  42727  3.548974\n",
      "    0.409208                Trapped  18446  3.522498\n",
      "    0.405285            Exit Wounds  28079  2.999145\n",
      "    0.405050                   Taxi  32027  3.362475\n"
     ]
    }
   ],
   "source": [
    "recommend(\"Hostage\",1000)"
   ]
  },
  {
   "cell_type": "code",
   "execution_count": 41,
   "metadata": {},
   "outputs": [
    {
     "name": "stdout",
     "output_type": "stream",
     "text": [
      "For movie (What the #$*! Do We Know!?)\n",
      "- Top 10 movies recommended based on correlation - \n",
      " Correlation                                          Name  count      mean\n",
      "    1.000000                    What the #$*! Do We Know!?  14910  3.189805\n",
      "    0.229485                                 Super Size Me  89865  3.863773\n",
      "    0.222048                          Smallville: Season 1  10082  4.169609\n",
      "    0.221503                                Love Potion #9  10894  3.202405\n",
      "    0.217475                    A Love Song for Bobby Long  15915  3.556079\n",
      "    0.217305                            Music of the Heart  10297  3.608041\n",
      "    0.213540  Outfoxed: Rupert Murdoch's War on Journalism  11218  3.801836\n",
      "    0.206379                                      Chocolat  13352  3.938511\n",
      "    0.203717                                    Rising Sun  19960  3.425401\n",
      "    0.202846                                  Control Room  15432  3.692392\n"
     ]
    }
   ],
   "source": [
    "recommend(\"What the #$*! Do We Know!?\",0)"
   ]
  },
  {
   "cell_type": "markdown",
   "metadata": {},
   "source": [
    "<br><br><h1>-------------------------------END OF THE PROJECT--------------------------------------"
   ]
  },
  {
   "cell_type": "code",
   "execution_count": 42,
   "metadata": {},
   "outputs": [
    {
     "data": {
      "text/plain": [
       "(17770, 2)"
      ]
     },
     "execution_count": 42,
     "metadata": {},
     "output_type": "execute_result"
    }
   ],
   "source": [
    "df_title.shape"
   ]
  },
  {
   "cell_type": "code",
   "execution_count": null,
   "metadata": {},
   "outputs": [],
   "source": []
  },
  {
   "cell_type": "code",
   "execution_count": null,
   "metadata": {},
   "outputs": [],
   "source": []
  }
 ],
 "metadata": {
  "kernelspec": {
   "display_name": "Python 3",
   "language": "python",
   "name": "python3"
  },
  "language_info": {
   "codemirror_mode": {
    "name": "ipython",
    "version": 3
   },
   "file_extension": ".py",
   "mimetype": "text/x-python",
   "name": "python",
   "nbconvert_exporter": "python",
   "pygments_lexer": "ipython3",
   "version": "3.7.3"
  }
 },
 "nbformat": 4,
 "nbformat_minor": 2
}
